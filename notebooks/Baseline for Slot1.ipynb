{
 "cells": [
  {
   "cell_type": "markdown",
   "metadata": {},
   "source": [
    "# Baseline for Slot1"
   ]
  },
  {
   "cell_type": "markdown",
   "metadata": {},
   "source": [
    "## Check dataset existence"
   ]
  },
  {
   "cell_type": "code",
   "execution_count": 1,
   "metadata": {},
   "outputs": [
    {
     "name": "stdout",
     "output_type": "stream",
     "text": [
      "230 files exist.\n",
      "310 stop words are read.\n"
     ]
    }
   ],
   "source": [
    "# check data existence\n",
    "from pathlib import Path\n",
    "\n",
    "\n",
    "data_folder = Path.cwd().parent.joinpath(\"data/processed\")\n",
    "\n",
    "def check_data_existence(folder):\n",
    "    file_count = len(list(folder.glob(\"e*_ann.json\")))\n",
    "    if  file_count == 0:\n",
    "        raise Exception(\"Processed Data does not exist.\")\n",
    "    else:\n",
    "        print(\"{} files exist.\".format(file_count))\n",
    "\n",
    "\n",
    "check_data_existence(data_folder)\n",
    "\n",
    "stop_words = []\n",
    "\n",
    "with Path.cwd().joinpath(\"resource/stop_words_ja.txt\").open(encoding=\"utf-8\") as f:\n",
    "    stop_words = f.readlines()\n",
    "    stop_words = [w.strip() for w in stop_words]\n",
    "\n",
    "print(\"{} stop words are read.\".format(len(stop_words)))"
   ]
  },
  {
   "cell_type": "markdown",
   "metadata": {},
   "source": [
    "## Read Slot1 data to DataFrame\n",
    "\n",
    "At the Slot1 task, predict E#A labels from sentence.\n",
    "\n",
    "* It is multi-class problem, and its evaluation is used [micro-averaging](http://www.aclweb.org/anthology/S16-1002)\n",
    "* Duplicate label  occurrences are ignored. "
   ]
  },
  {
   "cell_type": "code",
   "execution_count": 2,
   "metadata": {},
   "outputs": [
    {
     "name": "stdout",
     "output_type": "stream",
     "text": [
      "['market#general', 'company#general', 'company#sales', 'company#profit', 'company#amount', 'company#price', 'company#cost', 'business#general', 'business#sales', 'business#profit', 'business#amount', 'business#price', 'business#cost', 'product#general', 'product#sales', 'product#profit', 'product#amount', 'product#price', 'product#cost']\n"
     ]
    }
   ],
   "source": [
    "label_kinds = []\n",
    "\n",
    "# make labels (exclude NULL and OOD)\n",
    "for e in [\"market\", \"company\", \"business\", \"product\"]:\n",
    "    for a in [\"general\", \"sales\", \"profit\", \"amount\", \"price\", \"cost\"]:\n",
    "        label_kinds.append(e + \"#\" + a)\n",
    "        if e in [\"market\"]:\n",
    "            break;\n",
    "\n",
    "print(label_kinds)"
   ]
  },
  {
   "cell_type": "code",
   "execution_count": 3,
   "metadata": {},
   "outputs": [
    {
     "data": {
      "text/html": [
       "<div>\n",
       "<style scoped>\n",
       "    .dataframe tbody tr th:only-of-type {\n",
       "        vertical-align: middle;\n",
       "    }\n",
       "\n",
       "    .dataframe tbody tr th {\n",
       "        vertical-align: top;\n",
       "    }\n",
       "\n",
       "    .dataframe thead th {\n",
       "        text-align: right;\n",
       "    }\n",
       "</style>\n",
       "<table border=\"1\" class=\"dataframe\">\n",
       "  <thead>\n",
       "    <tr style=\"text-align: right;\">\n",
       "      <th></th>\n",
       "      <th>business#amount</th>\n",
       "      <th>business#cost</th>\n",
       "      <th>business#general</th>\n",
       "      <th>business#price</th>\n",
       "      <th>business#profit</th>\n",
       "      <th>business#sales</th>\n",
       "      <th>company#amount</th>\n",
       "      <th>company#cost</th>\n",
       "      <th>company#general</th>\n",
       "      <th>company#price</th>\n",
       "      <th>company#profit</th>\n",
       "      <th>company#sales</th>\n",
       "      <th>market#general</th>\n",
       "      <th>product#amount</th>\n",
       "      <th>product#cost</th>\n",
       "      <th>product#general</th>\n",
       "      <th>product#price</th>\n",
       "      <th>product#profit</th>\n",
       "      <th>product#sales</th>\n",
       "    </tr>\n",
       "  </thead>\n",
       "  <tbody>\n",
       "    <tr>\n",
       "      <th>0</th>\n",
       "      <td>0</td>\n",
       "      <td>0</td>\n",
       "      <td>0</td>\n",
       "      <td>0</td>\n",
       "      <td>0</td>\n",
       "      <td>0</td>\n",
       "      <td>0</td>\n",
       "      <td>0</td>\n",
       "      <td>0</td>\n",
       "      <td>0</td>\n",
       "      <td>0</td>\n",
       "      <td>0</td>\n",
       "      <td>0</td>\n",
       "      <td>0</td>\n",
       "      <td>0</td>\n",
       "      <td>0</td>\n",
       "      <td>0</td>\n",
       "      <td>0</td>\n",
       "      <td>0</td>\n",
       "    </tr>\n",
       "    <tr>\n",
       "      <th>1</th>\n",
       "      <td>0</td>\n",
       "      <td>0</td>\n",
       "      <td>0</td>\n",
       "      <td>0</td>\n",
       "      <td>0</td>\n",
       "      <td>0</td>\n",
       "      <td>0</td>\n",
       "      <td>0</td>\n",
       "      <td>0</td>\n",
       "      <td>0</td>\n",
       "      <td>0</td>\n",
       "      <td>0</td>\n",
       "      <td>0</td>\n",
       "      <td>0</td>\n",
       "      <td>0</td>\n",
       "      <td>0</td>\n",
       "      <td>0</td>\n",
       "      <td>0</td>\n",
       "      <td>0</td>\n",
       "    </tr>\n",
       "    <tr>\n",
       "      <th>2</th>\n",
       "      <td>0</td>\n",
       "      <td>0</td>\n",
       "      <td>0</td>\n",
       "      <td>0</td>\n",
       "      <td>0</td>\n",
       "      <td>0</td>\n",
       "      <td>0</td>\n",
       "      <td>0</td>\n",
       "      <td>0</td>\n",
       "      <td>0</td>\n",
       "      <td>1</td>\n",
       "      <td>1</td>\n",
       "      <td>0</td>\n",
       "      <td>0</td>\n",
       "      <td>0</td>\n",
       "      <td>0</td>\n",
       "      <td>0</td>\n",
       "      <td>0</td>\n",
       "      <td>0</td>\n",
       "    </tr>\n",
       "    <tr>\n",
       "      <th>3</th>\n",
       "      <td>0</td>\n",
       "      <td>0</td>\n",
       "      <td>0</td>\n",
       "      <td>0</td>\n",
       "      <td>0</td>\n",
       "      <td>0</td>\n",
       "      <td>0</td>\n",
       "      <td>0</td>\n",
       "      <td>0</td>\n",
       "      <td>0</td>\n",
       "      <td>0</td>\n",
       "      <td>0</td>\n",
       "      <td>0</td>\n",
       "      <td>1</td>\n",
       "      <td>0</td>\n",
       "      <td>0</td>\n",
       "      <td>0</td>\n",
       "      <td>0</td>\n",
       "      <td>0</td>\n",
       "    </tr>\n",
       "    <tr>\n",
       "      <th>4</th>\n",
       "      <td>0</td>\n",
       "      <td>0</td>\n",
       "      <td>0</td>\n",
       "      <td>0</td>\n",
       "      <td>0</td>\n",
       "      <td>0</td>\n",
       "      <td>0</td>\n",
       "      <td>0</td>\n",
       "      <td>0</td>\n",
       "      <td>0</td>\n",
       "      <td>0</td>\n",
       "      <td>0</td>\n",
       "      <td>0</td>\n",
       "      <td>1</td>\n",
       "      <td>0</td>\n",
       "      <td>0</td>\n",
       "      <td>0</td>\n",
       "      <td>0</td>\n",
       "      <td>0</td>\n",
       "    </tr>\n",
       "  </tbody>\n",
       "</table>\n",
       "</div>"
      ],
      "text/plain": [
       "   business#amount  business#cost  business#general  business#price  \\\n",
       "0                0              0                 0               0   \n",
       "1                0              0                 0               0   \n",
       "2                0              0                 0               0   \n",
       "3                0              0                 0               0   \n",
       "4                0              0                 0               0   \n",
       "\n",
       "   business#profit  business#sales  company#amount  company#cost  \\\n",
       "0                0               0               0             0   \n",
       "1                0               0               0             0   \n",
       "2                0               0               0             0   \n",
       "3                0               0               0             0   \n",
       "4                0               0               0             0   \n",
       "\n",
       "   company#general  company#price  company#profit  company#sales  \\\n",
       "0                0              0               0              0   \n",
       "1                0              0               0              0   \n",
       "2                0              0               1              1   \n",
       "3                0              0               0              0   \n",
       "4                0              0               0              0   \n",
       "\n",
       "   market#general  product#amount  product#cost  product#general  \\\n",
       "0               0               0             0                0   \n",
       "1               0               0             0                0   \n",
       "2               0               0             0                0   \n",
       "3               0               1             0                0   \n",
       "4               0               1             0                0   \n",
       "\n",
       "   product#price  product#profit  product#sales  \n",
       "0              0               0              0  \n",
       "1              0               0              0  \n",
       "2              0               0              0  \n",
       "3              0               0              0  \n",
       "4              0               0              0  "
      ]
     },
     "execution_count": 3,
     "metadata": {},
     "output_type": "execute_result"
    }
   ],
   "source": [
    "# Slot1 predicts E#A label from entity and sentence\n",
    "import json\n",
    "import pandas as pd\n",
    "from collections import Counter\n",
    "from janome.tokenizer import Tokenizer\n",
    "\n",
    "\n",
    "sentences = []\n",
    "labels = []\n",
    "tokenizer = Tokenizer(wakati=True)\n",
    "\n",
    "\n",
    "def format_word(word):\n",
    "    if word.isdigit():\n",
    "        return \"0\"\n",
    "    elif word in stop_words:\n",
    "        return \"\"\n",
    "    else:\n",
    "        return word.strip()\n",
    "\n",
    "\n",
    "def tokenize(sentence, register=True):\n",
    "    tokens = tokenizer.tokenize(sentence)\n",
    "    tokens = [format_word(t) for t in tokens]\n",
    "    tokens = [t for t in tokens if t]\n",
    "    return tokens\n",
    "    \n",
    "\n",
    "for f in data_folder.glob(\"e*_ann.json\"):\n",
    "    with f.open(encoding=\"utf-8\") as j:\n",
    "        d = json.load(j)\n",
    "        for s in d[\"sentences\"]:\n",
    "            # register words\n",
    "            tokenized = tokenize(s[\"sentence\"])\n",
    "            annotations = [o[\"category\"] for o in s[\"opinions\"]]\n",
    "            \n",
    "            if len(annotations) > 0:\n",
    "                row = {}\n",
    "                for k in label_kinds:\n",
    "                    if k in annotations:\n",
    "                        row[k] = 1\n",
    "                    else:\n",
    "                        row[k] = 0\n",
    "\n",
    "                labels.append(row)\n",
    "                sentences.append(tokenized)\n",
    "\n",
    "\n",
    "labels = pd.DataFrame(labels)\n",
    "labels.head(5)"
   ]
  },
  {
   "cell_type": "code",
   "execution_count": 4,
   "metadata": {},
   "outputs": [],
   "source": [
    "%matplotlib inline"
   ]
  },
  {
   "cell_type": "code",
   "execution_count": 5,
   "metadata": {},
   "outputs": [
    {
     "data": {
      "text/plain": [
       "<matplotlib.axes._subplots.AxesSubplot at 0x205f6d840b8>"
      ]
     },
     "execution_count": 5,
     "metadata": {},
     "output_type": "execute_result"
    },
    {
     "data": {
      "image/png": "[encoded data removed]",
      "text/plain": [
       "<matplotlib.figure.Figure at 0x205f6d5aa58>"
      ]
     },
     "metadata": {},
     "output_type": "display_data"
    }
   ],
   "source": [
    "labels.sum(axis=0).sort_values(ascending=False).plot.bar()"
   ]
  },
  {
   "cell_type": "code",
   "execution_count": 6,
   "metadata": {},
   "outputs": [
    {
     "name": "stdout",
     "output_type": "stream",
     "text": [
      "3215 data is available.\n"
     ]
    }
   ],
   "source": [
    "if len(sentences) != len(labels):\n",
    "    raise Exception(\"sentence and label count does not match!\")\n",
    "\n",
    "print(\"{} data is available.\".format(len(labels)))"
   ]
  },
  {
   "cell_type": "markdown",
   "metadata": {},
   "source": [
    "## Make Baseline Model\n",
    "\n",
    "* Baseline Model predicts E#A labels from 1000 vocab.\n"
   ]
  },
  {
   "cell_type": "code",
   "execution_count": 7,
   "metadata": {},
   "outputs": [],
   "source": [
    "import numpy as np\n",
    "from sklearn.base import BaseEstimator, TransformerMixin\n",
    "from sklearn.feature_extraction.text import TfidfVectorizer\n",
    "from sklearn.svm import LinearSVC\n",
    "from sklearn.multiclass import OneVsRestClassifier\n",
    "from sklearn.linear_model import LogisticRegression\n",
    "from sklearn.pipeline import Pipeline\n",
    "\n",
    "\n",
    "class SentenceToVec(BaseEstimator, TransformerMixin):\n",
    "    \n",
    "    def __init__(self, stop_words, vector_len=1000):\n",
    "        self.vocab = []\n",
    "        self.stop_words = stop_words\n",
    "        self.vector_len = vector_len\n",
    "    \n",
    "    def fit(self, X, y=None):\n",
    "        self.vocab = []\n",
    "        word_freq = Counter()\n",
    "        for i in range(X.shape[0]):\n",
    "            for w in X[i]:\n",
    "                if w not in self.stop_words:\n",
    "                    word_freq[w] += 1\n",
    "\n",
    "        for term, freq in word_freq.most_common():\n",
    "            if len(self.vocab) < self.vector_len:\n",
    "                self.vocab.append(term)\n",
    "\n",
    "        return self\n",
    "    \n",
    "    def _vectorize(self, words):\n",
    "        freq = dict(Counter(words))        \n",
    "        vector = []\n",
    "        for v in self.vocab:\n",
    "            vector.append(freq[v] if v in words else 0)\n",
    "        return np.array(vector)\n",
    "\n",
    "    def transform(self, X, copy=True):\n",
    "        _X = np.zeros((X.shape[0], len(self.vocab)))\n",
    "        for i in range(X.shape[0]):\n",
    "            _X[i] = self._vectorize(X[i])\n",
    "        return _X\n",
    "\n",
    "\n",
    "model = Pipeline([(\"vectorize\", SentenceToVec(stop_words)), (\"clf\", OneVsRestClassifier(LinearSVC(random_state=0)))])"
   ]
  },
  {
   "cell_type": "markdown",
   "metadata": {},
   "source": [
    "## Train the Model"
   ]
  },
  {
   "cell_type": "code",
   "execution_count": 8,
   "metadata": {},
   "outputs": [
    {
     "name": "stdout",
     "output_type": "stream",
     "text": [
      "(3215,)\n",
      "(3215, 19)\n",
      "[learning_curve] Training set sizes: [ 257  835 1414 1993 2572]\n",
      "[CV]  ................................................................\n"
     ]
    },
    {
     "name": "stderr",
     "output_type": "stream",
     "text": [
      "c:\\users\\ico\\documents\\works\\chabsa-dataset\\venv\\lib\\site-packages\\sklearn\\multiclass.py:76: UserWarning: Label not 7 is present in all training examples.\n",
      "  str(classes[c]))\n",
      "c:\\users\\ico\\documents\\works\\chabsa-dataset\\venv\\lib\\site-packages\\sklearn\\multiclass.py:76: UserWarning: Label not 9 is present in all training examples.\n",
      "  str(classes[c]))\n",
      "c:\\users\\ico\\documents\\works\\chabsa-dataset\\venv\\lib\\site-packages\\sklearn\\multiclass.py:76: UserWarning: Label not 10 is present in all training examples.\n",
      "  str(classes[c]))\n",
      "c:\\users\\ico\\documents\\works\\chabsa-dataset\\venv\\lib\\site-packages\\sklearn\\multiclass.py:76: UserWarning: Label not 14 is present in all training examples.\n",
      "  str(classes[c]))\n",
      "c:\\users\\ico\\documents\\works\\chabsa-dataset\\venv\\lib\\site-packages\\sklearn\\multiclass.py:76: UserWarning: Label not 17 is present in all training examples.\n",
      "  str(classes[c]))\n"
     ]
    },
    {
     "name": "stdout",
     "output_type": "stream",
     "text": [
      "[CV] ....................... , score=0.5894245723172629, total=   0.7s\n",
      "[CV]  ................................................................\n"
     ]
    },
    {
     "name": "stderr",
     "output_type": "stream",
     "text": [
      "[Parallel(n_jobs=1)]: Done   1 out of   1 | elapsed:    0.9s remaining:    0.0s\n",
      "c:\\users\\ico\\documents\\works\\chabsa-dataset\\venv\\lib\\site-packages\\sklearn\\multiclass.py:76: UserWarning: Label not 9 is present in all training examples.\n",
      "  str(classes[c]))\n",
      "c:\\users\\ico\\documents\\works\\chabsa-dataset\\venv\\lib\\site-packages\\sklearn\\multiclass.py:76: UserWarning: Label not 14 is present in all training examples.\n",
      "  str(classes[c]))\n"
     ]
    },
    {
     "name": "stdout",
     "output_type": "stream",
     "text": [
      "[CV] ....................... , score=0.5909797822706065, total=   1.5s\n",
      "[CV]  ................................................................\n"
     ]
    },
    {
     "name": "stderr",
     "output_type": "stream",
     "text": [
      "[Parallel(n_jobs=1)]: Done   2 out of   2 | elapsed:    3.0s remaining:    0.0s\n",
      "c:\\users\\ico\\documents\\works\\chabsa-dataset\\venv\\lib\\site-packages\\sklearn\\multiclass.py:76: UserWarning: Label not 9 is present in all training examples.\n",
      "  str(classes[c]))\n",
      "c:\\users\\ico\\documents\\works\\chabsa-dataset\\venv\\lib\\site-packages\\sklearn\\multiclass.py:76: UserWarning: Label not 14 is present in all training examples.\n",
      "  str(classes[c]))\n"
     ]
    },
    {
     "name": "stdout",
     "output_type": "stream",
     "text": [
      "[CV] ....................... , score=0.5723172628304821, total=   2.3s\n",
      "[CV]  ................................................................\n"
     ]
    },
    {
     "name": "stderr",
     "output_type": "stream",
     "text": [
      "[Parallel(n_jobs=1)]: Done   3 out of   3 | elapsed:    6.8s remaining:    0.0s\n",
      "c:\\users\\ico\\documents\\works\\chabsa-dataset\\venv\\lib\\site-packages\\sklearn\\multiclass.py:76: UserWarning: Label not 9 is present in all training examples.\n",
      "  str(classes[c]))\n",
      "c:\\users\\ico\\documents\\works\\chabsa-dataset\\venv\\lib\\site-packages\\sklearn\\multiclass.py:76: UserWarning: Label not 14 is present in all training examples.\n",
      "  str(classes[c]))\n"
     ]
    },
    {
     "name": "stdout",
     "output_type": "stream",
     "text": [
      "[CV] ....................... , score=0.5816485225505443, total=   3.3s\n",
      "[CV]  ................................................................\n"
     ]
    },
    {
     "name": "stderr",
     "output_type": "stream",
     "text": [
      "c:\\users\\ico\\documents\\works\\chabsa-dataset\\venv\\lib\\site-packages\\sklearn\\multiclass.py:76: UserWarning: Label not 9 is present in all training examples.\n",
      "  str(classes[c]))\n"
     ]
    },
    {
     "name": "stdout",
     "output_type": "stream",
     "text": [
      "[CV] ....................... , score=0.5723172628304821, total=   3.3s\n",
      "[CV]  ................................................................\n"
     ]
    },
    {
     "name": "stderr",
     "output_type": "stream",
     "text": [
      "c:\\users\\ico\\documents\\works\\chabsa-dataset\\venv\\lib\\site-packages\\sklearn\\multiclass.py:76: UserWarning: Label not 7 is present in all training examples.\n",
      "  str(classes[c]))\n",
      "c:\\users\\ico\\documents\\works\\chabsa-dataset\\venv\\lib\\site-packages\\sklearn\\multiclass.py:76: UserWarning: Label not 9 is present in all training examples.\n",
      "  str(classes[c]))\n",
      "c:\\users\\ico\\documents\\works\\chabsa-dataset\\venv\\lib\\site-packages\\sklearn\\multiclass.py:76: UserWarning: Label not 14 is present in all training examples.\n",
      "  str(classes[c]))\n",
      "c:\\users\\ico\\documents\\works\\chabsa-dataset\\venv\\lib\\site-packages\\sklearn\\multiclass.py:76: UserWarning: Label not 17 is present in all training examples.\n",
      "  str(classes[c]))\n"
     ]
    },
    {
     "name": "stdout",
     "output_type": "stream",
     "text": [
      "[CV] ....................... , score=0.5660964230171073, total=   0.7s\n",
      "[CV]  ................................................................\n"
     ]
    },
    {
     "name": "stderr",
     "output_type": "stream",
     "text": [
      "c:\\users\\ico\\documents\\works\\chabsa-dataset\\venv\\lib\\site-packages\\sklearn\\multiclass.py:76: UserWarning: Label not 7 is present in all training examples.\n",
      "  str(classes[c]))\n",
      "c:\\users\\ico\\documents\\works\\chabsa-dataset\\venv\\lib\\site-packages\\sklearn\\multiclass.py:76: UserWarning: Label not 9 is present in all training examples.\n",
      "  str(classes[c]))\n",
      "c:\\users\\ico\\documents\\works\\chabsa-dataset\\venv\\lib\\site-packages\\sklearn\\multiclass.py:76: UserWarning: Label not 17 is present in all training examples.\n",
      "  str(classes[c]))\n"
     ]
    },
    {
     "name": "stdout",
     "output_type": "stream",
     "text": [
      "[CV] ....................... , score=0.5692068429237948, total=   1.8s\n",
      "[CV]  ................................................................\n"
     ]
    },
    {
     "name": "stderr",
     "output_type": "stream",
     "text": [
      "c:\\users\\ico\\documents\\works\\chabsa-dataset\\venv\\lib\\site-packages\\sklearn\\multiclass.py:76: UserWarning: Label not 9 is present in all training examples.\n",
      "  str(classes[c]))\n"
     ]
    },
    {
     "name": "stdout",
     "output_type": "stream",
     "text": [
      "[CV] ....................... , score=0.5847589424572317, total=   2.2s\n",
      "[CV]  ................................................................\n"
     ]
    },
    {
     "name": "stderr",
     "output_type": "stream",
     "text": [
      "c:\\users\\ico\\documents\\works\\chabsa-dataset\\venv\\lib\\site-packages\\sklearn\\multiclass.py:76: UserWarning: Label not 9 is present in all training examples.\n",
      "  str(classes[c]))\n"
     ]
    },
    {
     "name": "stdout",
     "output_type": "stream",
     "text": [
      "[CV] ....................... , score=0.6049766718506998, total=   2.9s\n",
      "[CV]  ................................................................\n"
     ]
    },
    {
     "name": "stderr",
     "output_type": "stream",
     "text": [
      "c:\\users\\ico\\documents\\works\\chabsa-dataset\\venv\\lib\\site-packages\\sklearn\\multiclass.py:76: UserWarning: Label not 9 is present in all training examples.\n",
      "  str(classes[c]))\n"
     ]
    },
    {
     "name": "stdout",
     "output_type": "stream",
     "text": [
      "[CV] ....................... , score=0.5769828926905132, total=   3.9s\n",
      "[CV]  ................................................................\n"
     ]
    },
    {
     "name": "stderr",
     "output_type": "stream",
     "text": [
      "c:\\users\\ico\\documents\\works\\chabsa-dataset\\venv\\lib\\site-packages\\sklearn\\multiclass.py:76: UserWarning: Label not 7 is present in all training examples.\n",
      "  str(classes[c]))\n",
      "c:\\users\\ico\\documents\\works\\chabsa-dataset\\venv\\lib\\site-packages\\sklearn\\multiclass.py:76: UserWarning: Label not 8 is present in all training examples.\n",
      "  str(classes[c]))\n",
      "c:\\users\\ico\\documents\\works\\chabsa-dataset\\venv\\lib\\site-packages\\sklearn\\multiclass.py:76: UserWarning: Label not 9 is present in all training examples.\n",
      "  str(classes[c]))\n",
      "c:\\users\\ico\\documents\\works\\chabsa-dataset\\venv\\lib\\site-packages\\sklearn\\multiclass.py:76: UserWarning: Label not 14 is present in all training examples.\n",
      "  str(classes[c]))\n"
     ]
    },
    {
     "name": "stdout",
     "output_type": "stream",
     "text": [
      "[CV] ........................ , score=0.536547433903577, total=   0.7s\n",
      "[CV]  ................................................................\n"
     ]
    },
    {
     "name": "stderr",
     "output_type": "stream",
     "text": [
      "c:\\users\\ico\\documents\\works\\chabsa-dataset\\venv\\lib\\site-packages\\sklearn\\multiclass.py:76: UserWarning: Label not 7 is present in all training examples.\n",
      "  str(classes[c]))\n",
      "c:\\users\\ico\\documents\\works\\chabsa-dataset\\venv\\lib\\site-packages\\sklearn\\multiclass.py:76: UserWarning: Label not 8 is present in all training examples.\n",
      "  str(classes[c]))\n",
      "c:\\users\\ico\\documents\\works\\chabsa-dataset\\venv\\lib\\site-packages\\sklearn\\multiclass.py:76: UserWarning: Label not 9 is present in all training examples.\n",
      "  str(classes[c]))\n"
     ]
    },
    {
     "name": "stdout",
     "output_type": "stream",
     "text": [
      "[CV] ....................... , score=0.5645412130637636, total=   1.3s\n",
      "[CV]  ................................................................\n"
     ]
    },
    {
     "name": "stderr",
     "output_type": "stream",
     "text": [
      "c:\\users\\ico\\documents\\works\\chabsa-dataset\\venv\\lib\\site-packages\\sklearn\\multiclass.py:76: UserWarning: Label not 9 is present in all training examples.\n",
      "  str(classes[c]))\n"
     ]
    },
    {
     "name": "stdout",
     "output_type": "stream",
     "text": [
      "[CV] ....................... , score=0.5769828926905132, total=   2.1s\n",
      "[CV]  ................................................................\n"
     ]
    },
    {
     "name": "stderr",
     "output_type": "stream",
     "text": [
      "c:\\users\\ico\\documents\\works\\chabsa-dataset\\venv\\lib\\site-packages\\sklearn\\multiclass.py:76: UserWarning: Label not 9 is present in all training examples.\n",
      "  str(classes[c]))\n"
     ]
    },
    {
     "name": "stdout",
     "output_type": "stream",
     "text": [
      "[CV] ........................ , score=0.583203732503888, total=   2.8s\n",
      "[CV]  ................................................................\n"
     ]
    },
    {
     "name": "stderr",
     "output_type": "stream",
     "text": [
      "c:\\users\\ico\\documents\\works\\chabsa-dataset\\venv\\lib\\site-packages\\sklearn\\multiclass.py:76: UserWarning: Label not 9 is present in all training examples.\n",
      "  str(classes[c]))\n"
     ]
    },
    {
     "name": "stdout",
     "output_type": "stream",
     "text": [
      "[CV] ........................ , score=0.578538102643857, total=   3.4s\n",
      "[CV]  ................................................................\n"
     ]
    },
    {
     "name": "stderr",
     "output_type": "stream",
     "text": [
      "c:\\users\\ico\\documents\\works\\chabsa-dataset\\venv\\lib\\site-packages\\sklearn\\multiclass.py:76: UserWarning: Label not 9 is present in all training examples.\n",
      "  str(classes[c]))\n",
      "c:\\users\\ico\\documents\\works\\chabsa-dataset\\venv\\lib\\site-packages\\sklearn\\multiclass.py:76: UserWarning: Label not 14 is present in all training examples.\n",
      "  str(classes[c]))\n"
     ]
    },
    {
     "name": "stdout",
     "output_type": "stream",
     "text": [
      "[CV] ....................... , score=0.5318818040435459, total=   0.8s\n",
      "[CV]  ................................................................\n"
     ]
    },
    {
     "name": "stderr",
     "output_type": "stream",
     "text": [
      "c:\\users\\ico\\documents\\works\\chabsa-dataset\\venv\\lib\\site-packages\\sklearn\\multiclass.py:76: UserWarning: Label not 9 is present in all training examples.\n",
      "  str(classes[c]))\n"
     ]
    },
    {
     "name": "stdout",
     "output_type": "stream",
     "text": [
      "[CV] ....................... , score=0.5567651632970451, total=   1.6s\n",
      "[CV]  ................................................................\n"
     ]
    },
    {
     "name": "stderr",
     "output_type": "stream",
     "text": [
      "c:\\users\\ico\\documents\\works\\chabsa-dataset\\venv\\lib\\site-packages\\sklearn\\multiclass.py:76: UserWarning: Label not 9 is present in all training examples.\n",
      "  str(classes[c]))\n"
     ]
    },
    {
     "name": "stdout",
     "output_type": "stream",
     "text": [
      "[CV] ....................... , score=0.5614307931570762, total=   2.1s\n",
      "[CV]  ................................................................\n"
     ]
    },
    {
     "name": "stderr",
     "output_type": "stream",
     "text": [
      "c:\\users\\ico\\documents\\works\\chabsa-dataset\\venv\\lib\\site-packages\\sklearn\\multiclass.py:76: UserWarning: Label not 9 is present in all training examples.\n",
      "  str(classes[c]))\n"
     ]
    },
    {
     "name": "stdout",
     "output_type": "stream",
     "text": [
      "[CV] ....................... , score=0.5878693623639192, total=   3.3s\n",
      "[CV]  ................................................................\n"
     ]
    },
    {
     "name": "stderr",
     "output_type": "stream",
     "text": [
      "c:\\users\\ico\\documents\\works\\chabsa-dataset\\venv\\lib\\site-packages\\sklearn\\multiclass.py:76: UserWarning: Label not 9 is present in all training examples.\n",
      "  str(classes[c]))\n"
     ]
    },
    {
     "name": "stdout",
     "output_type": "stream",
     "text": [
      "[CV] ....................... , score=0.5894245723172629, total=   3.5s\n",
      "[CV]  ................................................................\n"
     ]
    },
    {
     "name": "stderr",
     "output_type": "stream",
     "text": [
      "c:\\users\\ico\\documents\\works\\chabsa-dataset\\venv\\lib\\site-packages\\sklearn\\multiclass.py:76: UserWarning: Label not 1 is present in all training examples.\n",
      "  str(classes[c]))\n",
      "c:\\users\\ico\\documents\\works\\chabsa-dataset\\venv\\lib\\site-packages\\sklearn\\multiclass.py:76: UserWarning: Label not 9 is present in all training examples.\n",
      "  str(classes[c]))\n",
      "c:\\users\\ico\\documents\\works\\chabsa-dataset\\venv\\lib\\site-packages\\sklearn\\multiclass.py:76: UserWarning: Label not 14 is present in all training examples.\n",
      "  str(classes[c]))\n",
      "c:\\users\\ico\\documents\\works\\chabsa-dataset\\venv\\lib\\site-packages\\sklearn\\multiclass.py:76: UserWarning: Label not 17 is present in all training examples.\n",
      "  str(classes[c]))\n"
     ]
    },
    {
     "name": "stdout",
     "output_type": "stream",
     "text": [
      "[CV] ....................... , score=0.5427682737169518, total=   0.6s\n",
      "[CV]  ................................................................\n"
     ]
    },
    {
     "name": "stderr",
     "output_type": "stream",
     "text": [
      "c:\\users\\ico\\documents\\works\\chabsa-dataset\\venv\\lib\\site-packages\\sklearn\\multiclass.py:76: UserWarning: Label not 9 is present in all training examples.\n",
      "  str(classes[c]))\n",
      "c:\\users\\ico\\documents\\works\\chabsa-dataset\\venv\\lib\\site-packages\\sklearn\\multiclass.py:76: UserWarning: Label not 17 is present in all training examples.\n",
      "  str(classes[c]))\n"
     ]
    },
    {
     "name": "stdout",
     "output_type": "stream",
     "text": [
      "[CV] ....................... , score=0.5505443234836703, total=   1.4s\n",
      "[CV]  ................................................................\n"
     ]
    },
    {
     "name": "stderr",
     "output_type": "stream",
     "text": [
      "c:\\users\\ico\\documents\\works\\chabsa-dataset\\venv\\lib\\site-packages\\sklearn\\multiclass.py:76: UserWarning: Label not 9 is present in all training examples.\n",
      "  str(classes[c]))\n"
     ]
    },
    {
     "name": "stdout",
     "output_type": "stream",
     "text": [
      "[CV] ....................... , score=0.5552099533437014, total=   2.0s\n",
      "[CV]  ................................................................\n"
     ]
    },
    {
     "name": "stderr",
     "output_type": "stream",
     "text": [
      "c:\\users\\ico\\documents\\works\\chabsa-dataset\\venv\\lib\\site-packages\\sklearn\\multiclass.py:76: UserWarning: Label not 9 is present in all training examples.\n",
      "  str(classes[c]))\n"
     ]
    },
    {
     "name": "stdout",
     "output_type": "stream",
     "text": [
      "[CV] ....................... , score=0.5552099533437014, total=   2.7s\n",
      "[CV]  ................................................................\n"
     ]
    },
    {
     "name": "stderr",
     "output_type": "stream",
     "text": [
      "c:\\users\\ico\\documents\\works\\chabsa-dataset\\venv\\lib\\site-packages\\sklearn\\multiclass.py:76: UserWarning: Label not 9 is present in all training examples.\n",
      "  str(classes[c]))\n"
     ]
    },
    {
     "name": "stdout",
     "output_type": "stream",
     "text": [
      "[CV] ....................... , score=0.5692068429237948, total=   3.4s\n"
     ]
    },
    {
     "name": "stderr",
     "output_type": "stream",
     "text": [
      "[Parallel(n_jobs=1)]: Done  25 out of  25 | elapsed:  1.4min finished\n"
     ]
    },
    {
     "data": {
      "image/png": "[encoded data removed]",
      "text/plain": [
       "<matplotlib.figure.Figure at 0x205fd22e080>"
      ]
     },
     "metadata": {},
     "output_type": "display_data"
    }
   ],
   "source": [
    "from sklearn.model_selection import learning_curve\n",
    "import matplotlib.pyplot as plt\n",
    "from sklearn.model_selection import ShuffleSplit\n",
    "\n",
    "\n",
    "# learning curve function\n",
    "# http://scikit-learn.org/stable/auto_examples/model_selection/plot_learning_curve.html\n",
    "\n",
    "def plot_learning_curve(\n",
    "        estimator, title, X, y, ylim=None, cv=None,\n",
    "        n_jobs=1, train_sizes=np.linspace(.1, 1.0, 5), verbose=0):\n",
    "\n",
    "    plt.figure()\n",
    "    plt.title(title)\n",
    "    if ylim is not None:\n",
    "        plt.ylim(*ylim)\n",
    "    plt.xlabel(\"Training examples\")\n",
    "    plt.ylabel(\"Score\")\n",
    "    train_sizes, train_scores, test_scores = learning_curve(\n",
    "        estimator, X, y, cv=cv, n_jobs=n_jobs, train_sizes=train_sizes, verbose=verbose)\n",
    "    train_scores_mean = np.mean(train_scores, axis=1)\n",
    "    train_scores_std = np.std(train_scores, axis=1)\n",
    "    test_scores_mean = np.mean(test_scores, axis=1)\n",
    "    test_scores_std = np.std(test_scores, axis=1)\n",
    "    plt.grid()\n",
    "\n",
    "    plt.fill_between(train_sizes, train_scores_mean - train_scores_std,\n",
    "                     train_scores_mean + train_scores_std, alpha=0.1,\n",
    "                     color=\"r\")\n",
    "    plt.fill_between(train_sizes, test_scores_mean - test_scores_std,\n",
    "                     test_scores_mean + test_scores_std, alpha=0.1, color=\"g\")\n",
    "    plt.plot(train_sizes, train_scores_mean, 'o-', color=\"r\",\n",
    "             label=\"Training score\")\n",
    "    plt.plot(train_sizes, test_scores_mean, 'o-', color=\"g\",\n",
    "             label=\"Cross-validation score\")\n",
    "\n",
    "    plt.legend(loc=\"best\")\n",
    "    return plt\n",
    "\n",
    "\n",
    "cv = ShuffleSplit(n_splits=5, test_size=0.2, random_state=0)\n",
    "\n",
    "X = np.array(sentences)\n",
    "print(X.shape)\n",
    "print(labels.shape)\n",
    "plot_learning_curve(model, \"Slot1 baseline learning curve \",\n",
    "                    X, labels, ylim=(0.0, 1.01), cv=cv, n_jobs=1, verbose=4)\n",
    "\n",
    "plt.show()"
   ]
  },
  {
   "cell_type": "code",
   "execution_count": 9,
   "metadata": {},
   "outputs": [
    {
     "name": "stderr",
     "output_type": "stream",
     "text": [
      "c:\\users\\ico\\documents\\works\\chabsa-dataset\\venv\\lib\\site-packages\\sklearn\\multiclass.py:76: UserWarning: Label not 9 is present in all training examples.\n",
      "  str(classes[c]))\n",
      "c:\\users\\ico\\documents\\works\\chabsa-dataset\\venv\\lib\\site-packages\\sklearn\\multiclass.py:76: UserWarning: Label not 9 is present in all training examples.\n",
      "  str(classes[c]))\n",
      "c:\\users\\ico\\documents\\works\\chabsa-dataset\\venv\\lib\\site-packages\\sklearn\\multiclass.py:76: UserWarning: Label not 9 is present in all training examples.\n",
      "  str(classes[c]))\n",
      "c:\\users\\ico\\documents\\works\\chabsa-dataset\\venv\\lib\\site-packages\\sklearn\\multiclass.py:76: UserWarning: Label not 9 is present in all training examples.\n",
      "  str(classes[c]))\n",
      "c:\\users\\ico\\documents\\works\\chabsa-dataset\\venv\\lib\\site-packages\\sklearn\\multiclass.py:76: UserWarning: Label not 9 is present in all training examples.\n",
      "  str(classes[c]))\n"
     ]
    },
    {
     "name": "stdout",
     "output_type": "stream",
     "text": [
      "F1 is 0.4477247295864218 (+/-0.02488758513807451)\n"
     ]
    }
   ],
   "source": [
    "from sklearn.model_selection import train_test_split\n",
    "from sklearn.metrics import f1_score\n",
    "\n",
    "f1 = []\n",
    "for train_index, test_index in cv.split(X):\n",
    "    model.fit(X[train_index], labels.iloc[train_index, :])\n",
    "    y_pred = model.predict(X[test_index])\n",
    "    y_true = labels.iloc[test_index, :]\n",
    "    micro_f1 = f1_score(y_true, y_pred, average=\"micro\")\n",
    "    f1.append(micro_f1)\n",
    "\n",
    "print(\"F1 is {} (+/-{})\".format(np.mean(f1), np.std(f1)))"
   ]
  },
  {
   "cell_type": "code",
   "execution_count": null,
   "metadata": {},
   "outputs": [],
   "source": []
  }
 ],
 "metadata": {
  "kernelspec": {
   "display_name": "Python 3",
   "language": "python",
   "name": "python3"
  },
  "language_info": {
   "codemirror_mode": {
    "name": "ipython",
    "version": 3
   },
   "file_extension": ".py",
   "mimetype": "text/x-python",
   "name": "python",
   "nbconvert_exporter": "python",
   "pygments_lexer": "ipython3",
   "version": "3.6.4"
  }
 },
 "nbformat": 4,
 "nbformat_minor": 2
}
