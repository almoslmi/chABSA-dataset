{
 "cells": [
  {
   "cell_type": "markdown",
   "metadata": {},
   "source": [
    "## Baseline for Slot1"
   ]
  },
  {
   "cell_type": "markdown",
   "metadata": {},
   "source": [
    "## Check dataset existence"
   ]
  },
  {
   "cell_type": "code",
   "execution_count": 1,
   "metadata": {},
   "outputs": [
    {
     "name": "stdout",
     "output_type": "stream",
     "text": [
      "230 files exist.\n"
     ]
    }
   ],
   "source": [
    "# check data existence\n",
    "from pathlib import Path\n",
    "\n",
    "\n",
    "data_folder = Path.cwd().parent.joinpath(\"data/processed\")\n",
    "\n",
    "def check_data_existence(folder):\n",
    "    file_count = len(list(folder.glob(\"e*_ann.json\")))\n",
    "    if  file_count == 0:\n",
    "        raise Exception(\"Processed Data does not exist.\")\n",
    "    else:\n",
    "        print(\"{} files exist.\".format(file_count))\n",
    "\n",
    "\n",
    "check_data_existence(data_folder)"
   ]
  },
  {
   "cell_type": "markdown",
   "metadata": {},
   "source": [
    "## Read Slot1 data to DataFrame\n",
    "\n",
    "Basic strategy\n",
    "\n",
    "* Predict the attribute from sentence. Because attribute keywords not\n"
   ]
  },
  {
   "cell_type": "code",
   "execution_count": 2,
   "metadata": {},
   "outputs": [],
   "source": [
    "# Slot1 predicts E#A label from entity and sentence\n",
    "import json\n",
    "import pandas as pd\n",
    "from collections import Counter\n",
    "from janome.tokenizer import Tokenizer\n",
    "\n",
    "\n",
    "dataset = []\n",
    "corpus = []\n",
    "word_freq = Counter()\n",
    "tokenizer = Tokenizer()\n",
    "PAD = \"__PAD__\"\n",
    "UNK = \"__UNK__\"\n",
    "\n",
    "\n",
    "def format_word(word):\n",
    "    if word.isdigit():\n",
    "        return \"0\"\n",
    "    else:\n",
    "        return word.strip()\n",
    "\n",
    "\n",
    "def tokenize(sentence, register=True):\n",
    "    tokens = tokenizer.tokenize(sentence)\n",
    "    words = []\n",
    "    for t in tokens:\n",
    "        pos = t.part_of_speech.split(\",\")\n",
    "        if pos[0] == \"名詞\" or pos[1].startswith(\"括弧\"):\n",
    "            w = format_word(t.surface) \n",
    "            if w:\n",
    "                words.append(w)\n",
    "                if register:\n",
    "                    word_freq[w] += 1\n",
    "    return words\n",
    "    \n",
    "\n",
    "for f in data_folder.glob(\"e*_ann.json\"):\n",
    "    with f.open(encoding=\"utf-8\") as j:\n",
    "        d = json.load(j)        \n",
    "        for s in d[\"sentences\"]:\n",
    "            # register words\n",
    "            tokenized = tokenize(s[\"sentence\"])\n",
    "            corpus.append(tokenized)\n",
    "\n",
    "            for o in s[\"opinions\"]:\n",
    "                targets = tokenize(o[\"target\"])\n",
    "                for t in targets:\n",
    "                    d = {\n",
    "                        \"label\": o[\"category\"],\n",
    "                        \"target\": t,\n",
    "                        \"context\": [_t for _t in targets if _t != t],\n",
    "                        \"entity\": o[\"category\"].split(\"#\")[0],\n",
    "                        \"attribute\": o[\"category\"].split(\"#\")[1],\n",
    "                        \"corpus_index\": len(corpus) -1\n",
    "                    }\n",
    "                    dataset.append(d)"
   ]
  },
  {
   "cell_type": "code",
   "execution_count": 3,
   "metadata": {},
   "outputs": [],
   "source": [
    "%matplotlib inline"
   ]
  },
  {
   "cell_type": "code",
   "execution_count": 4,
   "metadata": {},
   "outputs": [
    {
     "data": {
      "text/plain": [
       "<matplotlib.axes._subplots.AxesSubplot at 0x11395fb38>"
      ]
     },
     "execution_count": 4,
     "metadata": {},
     "output_type": "execute_result"
    },
    {
     "data": {
      "image/png": "[encoded data removed]",
      "text/plain": [
       "<matplotlib.figure.Figure at 0x1044c1710>"
      ]
     },
     "metadata": {},
     "output_type": "display_data"
    }
   ],
   "source": [
    "dataset = pd.DataFrame(dataset)\n",
    "dataset.tail(5)\n",
    "dataset.groupby(\"entity\").count()[\"label\"].plot.pie(figsize=(5, 5))"
   ]
  },
  {
   "cell_type": "code",
   "execution_count": 5,
   "metadata": {},
   "outputs": [
    {
     "data": {
      "text/plain": [
       "label\n",
       "OOD#general         3934\n",
       "NULL#profit         2672\n",
       "NULL#sales          2115\n",
       "business#sales      1395\n",
       "product#amount      1354\n",
       "product#sales        888\n",
       "NULL#cost            760\n",
       "NULL#amount          722\n",
       "product#general      624\n",
       "business#profit      620\n",
       "business#amount      379\n",
       "business#general     359\n",
       "market#general       332\n",
       "NULL#price           176\n",
       "company#sales         91\n",
       "business#cost         83\n",
       "company#amount        71\n",
       "company#profit        61\n",
       "business#price        53\n",
       "product#price         52\n",
       "company#general       37\n",
       "product#profit        21\n",
       "company#cost          11\n",
       "product#cost          10\n",
       "NULL#general           5\n",
       "Name: target, dtype: int64"
      ]
     },
     "execution_count": 5,
     "metadata": {},
     "output_type": "execute_result"
    }
   ],
   "source": [
    "dataset.groupby(\"label\").count()[\"target\"].sort_values(ascending=False)"
   ]
  },
  {
   "cell_type": "code",
   "execution_count": 6,
   "metadata": {},
   "outputs": [],
   "source": [
    "# Filter NULL / OOD entity\n",
    "dataset = dataset[(dataset[\"entity\"] != \"NULL\") & (dataset[\"entity\"] != \"OOD\")]"
   ]
  },
  {
   "cell_type": "code",
   "execution_count": 7,
   "metadata": {},
   "outputs": [
    {
     "name": "stdout",
     "output_type": "stream",
     "text": [
      "6441 data is available.\n"
     ]
    }
   ],
   "source": [
    "# reset index from 0    \n",
    "dataset.reset_index(drop=True, inplace=True)\n",
    "# show dataset size\n",
    "print(\"{} data is available.\".format(len(dataset)))"
   ]
  },
  {
   "cell_type": "code",
   "execution_count": 8,
   "metadata": {},
   "outputs": [
    {
     "data": {
      "text/html": [
       "<div>\n",
       "<style scoped>\n",
       "    .dataframe tbody tr th:only-of-type {\n",
       "        vertical-align: middle;\n",
       "    }\n",
       "\n",
       "    .dataframe tbody tr th {\n",
       "        vertical-align: top;\n",
       "    }\n",
       "\n",
       "    .dataframe thead th {\n",
       "        text-align: right;\n",
       "    }\n",
       "</style>\n",
       "<table border=\"1\" class=\"dataframe\">\n",
       "  <thead>\n",
       "    <tr style=\"text-align: right;\">\n",
       "      <th></th>\n",
       "      <th>attribute</th>\n",
       "      <th>context</th>\n",
       "      <th>corpus_index</th>\n",
       "      <th>entity</th>\n",
       "      <th>label</th>\n",
       "      <th>target</th>\n",
       "    </tr>\n",
       "  </thead>\n",
       "  <tbody>\n",
       "    <tr>\n",
       "      <th>0</th>\n",
       "      <td>general</td>\n",
       "      <td>[業界]</td>\n",
       "      <td>2</td>\n",
       "      <td>market</td>\n",
       "      <td>market#general</td>\n",
       "      <td>歯科</td>\n",
       "    </tr>\n",
       "    <tr>\n",
       "      <th>1</th>\n",
       "      <td>general</td>\n",
       "      <td>[歯科]</td>\n",
       "      <td>2</td>\n",
       "      <td>market</td>\n",
       "      <td>market#general</td>\n",
       "      <td>業界</td>\n",
       "    </tr>\n",
       "    <tr>\n",
       "      <th>2</th>\n",
       "      <td>sales</td>\n",
       "      <td>[品]</td>\n",
       "      <td>12</td>\n",
       "      <td>product</td>\n",
       "      <td>product#sales</td>\n",
       "      <td>化工</td>\n",
       "    </tr>\n",
       "    <tr>\n",
       "      <th>3</th>\n",
       "      <td>sales</td>\n",
       "      <td>[化工]</td>\n",
       "      <td>12</td>\n",
       "      <td>product</td>\n",
       "      <td>product#sales</td>\n",
       "      <td>品</td>\n",
       "    </tr>\n",
       "    <tr>\n",
       "      <th>4</th>\n",
       "      <td>sales</td>\n",
       "      <td>[/, ＣＡＭ, 関連, 製品]</td>\n",
       "      <td>12</td>\n",
       "      <td>product</td>\n",
       "      <td>product#sales</td>\n",
       "      <td>ＣＡＤ</td>\n",
       "    </tr>\n",
       "  </tbody>\n",
       "</table>\n",
       "</div>"
      ],
      "text/plain": [
       "  attribute           context  corpus_index   entity           label target\n",
       "0   general              [業界]             2   market  market#general     歯科\n",
       "1   general              [歯科]             2   market  market#general     業界\n",
       "2     sales               [品]            12  product   product#sales     化工\n",
       "3     sales              [化工]            12  product   product#sales      品\n",
       "4     sales  [/, ＣＡＭ, 関連, 製品]            12  product   product#sales    ＣＡＤ"
      ]
     },
     "execution_count": 8,
     "metadata": {},
     "output_type": "execute_result"
    }
   ],
   "source": [
    "dataset.head(5)"
   ]
  },
  {
   "cell_type": "code",
   "execution_count": 9,
   "metadata": {},
   "outputs": [
    {
     "name": "stdout",
     "output_type": "stream",
     "text": [
      "['これら', '製品', '当社', '注力', '分野', '化工', '品', 'ＣＡＤ', '/', 'ＣＡＭ', '関連', '製品', '売上', '寄与', '市場', '競争', '激化', '人工', '歯', 'はじめ', '既存', '主力', '製品', '販売', '計画', '前年', '同期', '比', '減収']\n"
     ]
    }
   ],
   "source": [
    "print(corpus[12])"
   ]
  },
  {
   "cell_type": "code",
   "execution_count": 10,
   "metadata": {},
   "outputs": [
    {
     "name": "stdout",
     "output_type": "stream",
     "text": [
      "Vocabulary size is 5000 / 7367.\n"
     ]
    }
   ],
   "source": [
    "vocab = [PAD, UNK]\n",
    "max_vocab = 5000\n",
    "\n",
    "for term, freq in word_freq.most_common():\n",
    "    if len(vocab) < max_vocab:\n",
    "        vocab.append(term)\n",
    "        \n",
    "print(\"Vocabulary size is {} / {}.\".format(len(vocab), len(word_freq)))"
   ]
  },
  {
   "cell_type": "markdown",
   "metadata": {},
   "source": [
    "## Prepare the word vector"
   ]
  },
  {
   "cell_type": "code",
   "execution_count": 11,
   "metadata": {},
   "outputs": [],
   "source": [
    "# check pretrained vector existence\n",
    "EMBED_SIZE = 300  # fastText is 300dim\n",
    "word_vector_path = Path.cwd().joinpath(\"wiki.ja.vec\")\n",
    "if not word_vector_path.exists():\n",
    "    raise Exception(\"Pre-trained word vector is not downloaded. Please execute download_fast_text.py.\")"
   ]
  },
  {
   "cell_type": "code",
   "execution_count": 12,
   "metadata": {},
   "outputs": [
    {
     "name": "stdout",
     "output_type": "stream",
     "text": [
      "load word embeddings (4219 / 5000 is loaded).\n"
     ]
    }
   ],
   "source": [
    "import numpy as np\n",
    "\n",
    "\n",
    "embedding_matrix = np.zeros((len(vocab), EMBED_SIZE)) \n",
    "\n",
    "hit_count = -1\n",
    "with word_vector_path.open(encoding=\"utf-8\") as f:\n",
    "    for line in f:\n",
    "        if hit_count == -1:\n",
    "            hit_count = 0\n",
    "            continue  # skip first line that has (vocab_size, vector_size)\n",
    "\n",
    "        values = line.split()\n",
    "        word = values[0]\n",
    "        vector = np.asarray(values[1:], dtype=\"float32\")\n",
    "        if word in vocab:\n",
    "            hit_count += 1\n",
    "            index = vocab.index(word)\n",
    "            embedding_matrix[index] = vector\n",
    "\n",
    "print(\"load word embeddings ({} / {} is loaded).\".format(hit_count, len(vocab)))"
   ]
  },
  {
   "cell_type": "markdown",
   "metadata": {},
   "source": [
    "## Make Baseline Model\n",
    "\n",
    "* Baseline Model predicts the entity and attribute separately.\n",
    "* After each prediction is done, concatenate these.\n"
   ]
  },
  {
   "cell_type": "code",
   "execution_count": 28,
   "metadata": {},
   "outputs": [],
   "source": [
    "from sklearn.base import BaseEstimator, TransformerMixin\n",
    "from sklearn.feature_extraction.text import TfidfVectorizer\n",
    "from sklearn.svm import LinearSVC\n",
    "from sklearn.linear_model import LogisticRegression\n",
    "from sklearn.pipeline import Pipeline\n",
    "\n",
    "\n",
    "class SentenceTfidf(BaseEstimator, TransformerMixin):\n",
    "    \n",
    "    def __init__(self, corpus, vocab):\n",
    "        # corpus includes train/test sentences\n",
    "        # fit is executed under train data indices, and tranform is done under test ones.\n",
    "        self.corpus = corpus\n",
    "        self.vocab = vocab\n",
    "        self.vectorizer = TfidfVectorizer(vocabulary=self.vocab)\n",
    "    \n",
    "    def fit(self, X, y=None):\n",
    "        indices = X[\"corpus_index\"].tolist()\n",
    "        texts = [self._format_text(i) for i in indices]\n",
    "        self.vectorizer.fit(texts)\n",
    "    \n",
    "    def fit_transform(self, X, y=None):\n",
    "        self.fit(X, y)\n",
    "        return self.transform(X)\n",
    "    \n",
    "    def _format_text(self, i):\n",
    "        s = self.corpus[i]\n",
    "        s = [UNK if w not in vocab else w for w in s]\n",
    "        text = \" \".join(s)\n",
    "        return text\n",
    "\n",
    "    def transform(self, X, copy=True):\n",
    "        indices = X[\"corpus_index\"].tolist()\n",
    "        texts = [self._format_text(i) for i in indices]\n",
    "        return self.vectorizer.transform(texts, copy)\n",
    "\n",
    "\n",
    "class WordToVector(BaseEstimator, TransformerMixin):\n",
    "    \n",
    "    def __init__(self, vocab, embeddings):\n",
    "        self.vocab = vocab\n",
    "        self.embeddings = embeddings\n",
    "    \n",
    "    def fit(self, X, y=None):\n",
    "        pass\n",
    "    \n",
    "    def fit_transform(self, X, y=None):\n",
    "        return self.transform(X)\n",
    "    \n",
    "    def transform(self, X, copy=True):\n",
    "        def vectorize(w):\n",
    "            v = np.random.uniform(0, 1, self.embeddings.shape[1])\n",
    "            if  w in self.vocab:\n",
    "                v = self.embeddings[self.vocab.index(w)]\n",
    "            return v\n",
    "        \n",
    "        def merge(ws):\n",
    "            if len(ws) == 0:\n",
    "                return np.random.uniform(0, 1, self.embeddings.shape[1])\n",
    "            elif len(ws) == 1:\n",
    "                return vectorize(ws[0])\n",
    "            else:\n",
    "                return np.mean([vectorize(w) for w in ws], axis=0)\n",
    "        \n",
    "        contexts = np.array([merge(cs) for cs in X[\"context\"].tolist()])\n",
    "        targets = np.array([vectorize(w) for w in X[\"target\"].tolist()])\n",
    "\n",
    "        return np.hstack((contexts, targets))\n",
    "\n",
    "\n",
    "attribute_model = Pipeline([(\"tfidf\", SentenceTfidf(corpus, vocab)), (\"clf\", LogisticRegression(penalty=\"l1\"))])\n",
    "entity_model = Pipeline([(\"merge\", WordToVector(vocab, embedding_matrix)), (\"clf\", LogisticRegression(penalty=\"l2\"))])"
   ]
  },
  {
   "cell_type": "markdown",
   "metadata": {},
   "source": [
    "## Train the Model"
   ]
  },
  {
   "cell_type": "code",
   "execution_count": 29,
   "metadata": {},
   "outputs": [
    {
     "name": "stdout",
     "output_type": "stream",
     "text": [
      "entity count is 4.\n",
      "attribute count is 6.\n"
     ]
    }
   ],
   "source": [
    "label_kinds = [\"entity\", \"attribute\"]\n",
    "labels = {}\n",
    "\n",
    "for k in label_kinds:\n",
    "    labels[k] = sorted(dataset.groupby(k).groups.keys())\n",
    "    print(\"{} count is {}.\".format(k, len(labels[k])))"
   ]
  },
  {
   "cell_type": "code",
   "execution_count": 30,
   "metadata": {},
   "outputs": [
    {
     "name": "stdout",
     "output_type": "stream",
     "text": [
      "[learning_curve] Training set sizes: [ 515 1674 2833 3992 5152]\n",
      "[CV]  ................................................................\n",
      "[CV]  ................................................................\n",
      "[CV]  ................................................................\n",
      "[CV]  ................................................................\n",
      "[CV] ................................................. , total=   1.4s\n",
      "[CV]  ................................................................\n",
      "[CV] ................................................. , total=   3.7s\n",
      "[CV]  ................................................................\n",
      "[CV] ................................................. , total=   1.3s\n",
      "[CV]  ................................................................\n",
      "[CV] ................................................. , total=   5.9s\n",
      "[CV]  ................................................................\n",
      "[CV] ................................................. , total=   3.3s\n",
      "[CV]  ................................................................\n",
      "[CV] ................................................. , total=   8.7s\n",
      "[CV]  ................................................................\n",
      "[CV] ................................................. , total=   5.9s\n",
      "[CV]  ................................................................\n",
      "[CV] ................................................. , total=  11.7s\n",
      "[CV]  ................................................................\n",
      "[CV] ................................................. , total=   1.3s\n",
      "[CV]  ................................................................\n",
      "[CV] ................................................. , total=   3.4s\n",
      "[CV]  ................................................................\n",
      "[CV] ................................................. , total=   8.8s\n",
      "[CV]  ................................................................\n",
      "[CV] ................................................. , total=   5.7s\n",
      "[CV]  ................................................................\n",
      "[CV] ................................................. , total=   1.1s\n",
      "[CV]  ................................................................\n"
     ]
    },
    {
     "name": "stderr",
     "output_type": "stream",
     "text": [
      "[Parallel(n_jobs=4)]: Done  13 out of  25 | elapsed:   23.9s remaining:   22.1s\n"
     ]
    },
    {
     "name": "stdout",
     "output_type": "stream",
     "text": [
      "[CV] ................................................. , total=  11.8s\n",
      "[CV]  ................................................................\n",
      "[CV] ................................................. , total=   3.7s\n",
      "[CV]  ................................................................\n",
      "[CV] ................................................. , total=   9.3s\n",
      "[CV]  ................................................................\n",
      "[CV] ................................................. , total=   6.4s\n",
      "[CV]  ................................................................\n",
      "[CV] ................................................. , total=   1.1s\n",
      "[CV]  ................................................................\n",
      "[CV] ................................................. , total=  12.1s\n",
      "[CV]  ................................................................\n",
      "[CV] ................................................. , total=   3.2s\n",
      "[CV]  ................................................................\n",
      "[CV] ................................................. , total=   7.9s\n",
      "[CV]  ................................................................\n",
      "[CV] ................................................. , total=   5.6s\n",
      "[CV] ................................................. , total=  11.1s\n",
      "[CV] ................................................. , total=   7.0s\n",
      "[CV] ................................................. , total=   7.8s\n"
     ]
    },
    {
     "name": "stderr",
     "output_type": "stream",
     "text": [
      "[Parallel(n_jobs=4)]: Done  25 out of  25 | elapsed:   46.3s finished\n"
     ]
    },
    {
     "name": "stdout",
     "output_type": "stream",
     "text": [
      "[learning_curve] Training set sizes: [ 515 1674 2833 3992 5152]\n",
      "[CV]  ................................................................\n",
      "[CV]  ................................................................\n",
      "[CV]  ................................................................\n",
      "[CV]  ................................................................\n",
      "[CV] ................................................. , total=   1.1s\n",
      "[CV]  ................................................................\n",
      "[CV] ................................................. , total=   3.2s\n",
      "[CV]  ................................................................\n",
      "[CV] ................................................. , total=   1.5s\n",
      "[CV]  ................................................................\n",
      "[CV] ................................................. , total=   4.8s\n",
      "[CV]  ................................................................\n",
      "[CV] ................................................. , total=   6.0s\n",
      "[CV]  ................................................................\n",
      "[CV] ................................................. , total=   2.9s\n",
      "[CV]  ................................................................\n",
      "[CV] ................................................. , total=   7.4s\n",
      "[CV]  ................................................................\n",
      "[CV] ................................................. , total=   4.3s\n",
      "[CV]  ................................................................\n",
      "[CV] ................................................. , total=   1.7s\n",
      "[CV]  ................................................................\n",
      "[CV] ................................................. , total=   2.7s\n",
      "[CV]  ................................................................\n",
      "[CV] ................................................. , total=   5.9s\n",
      "[CV]  ................................................................\n",
      "[CV] ................................................. , total=   3.7s\n",
      "[CV]  ................................................................\n",
      "[CV] ................................................. , total=   7.1s\n",
      "[CV]  ................................................................\n"
     ]
    },
    {
     "name": "stderr",
     "output_type": "stream",
     "text": [
      "[Parallel(n_jobs=4)]: Done  13 out of  25 | elapsed:   20.5s remaining:   18.9s\n"
     ]
    },
    {
     "name": "stdout",
     "output_type": "stream",
     "text": [
      "[CV] ................................................. , total=   1.3s\n",
      "[CV]  ................................................................\n",
      "[CV] ................................................. , total=   2.5s\n",
      "[CV]  ................................................................\n",
      "[CV] ................................................. , total=   4.7s\n",
      "[CV]  ................................................................\n",
      "[CV] ................................................. , total=   3.9s\n",
      "[CV] ................................................. , total=   6.3s\n",
      "[CV]  ................................................................\n",
      "[CV]  ................................................................\n",
      "[CV] ................................................. , total=   1.6s\n",
      "[CV]  ................................................................\n",
      "[CV] ................................................. , total=   3.4s\n",
      "[CV]  ................................................................\n",
      "[CV] ................................................. , total=   5.5s\n",
      "[CV]  ................................................................\n",
      "[CV] ................................................. , total=   7.4s\n",
      "[CV] ................................................. , total=   4.5s\n",
      "[CV] ................................................. , total=   4.4s\n",
      "[CV] ................................................. , total=   5.2s\n"
     ]
    },
    {
     "name": "stderr",
     "output_type": "stream",
     "text": [
      "[Parallel(n_jobs=4)]: Done  25 out of  25 | elapsed:   40.1s finished\n"
     ]
    },
    {
     "data": {
      "image/png": "[encoded data removed]",
      "text/plain": [
       "<matplotlib.figure.Figure at 0x10dbd9748>"
      ]
     },
     "metadata": {},
     "output_type": "display_data"
    },
    {
     "data": {
      "image/png": "[encoded data removed]",
      "text/plain": [
       "<matplotlib.figure.Figure at 0x10dc4a358>"
      ]
     },
     "metadata": {},
     "output_type": "display_data"
    }
   ],
   "source": [
    "from sklearn.model_selection import learning_curve\n",
    "import matplotlib.pyplot as plt\n",
    "from sklearn.model_selection import ShuffleSplit\n",
    "\n",
    "\n",
    "# learning curve function\n",
    "# http://scikit-learn.org/stable/auto_examples/model_selection/plot_learning_curve.html\n",
    "\n",
    "def plot_learning_curve(\n",
    "        estimator, title, X, y, ylim=None, cv=None,\n",
    "        n_jobs=1, train_sizes=np.linspace(.1, 1.0, 5), verbose=0):\n",
    "\n",
    "    plt.figure()\n",
    "    plt.title(title)\n",
    "    if ylim is not None:\n",
    "        plt.ylim(*ylim)\n",
    "    plt.xlabel(\"Training examples\")\n",
    "    plt.ylabel(\"Score\")\n",
    "    train_sizes, train_scores, test_scores = learning_curve(\n",
    "        estimator, X, y, cv=cv, n_jobs=n_jobs, train_sizes=train_sizes, verbose=verbose)\n",
    "    train_scores_mean = np.mean(train_scores, axis=1)\n",
    "    train_scores_std = np.std(train_scores, axis=1)\n",
    "    test_scores_mean = np.mean(test_scores, axis=1)\n",
    "    test_scores_std = np.std(test_scores, axis=1)\n",
    "    plt.grid()\n",
    "\n",
    "    plt.fill_between(train_sizes, train_scores_mean - train_scores_std,\n",
    "                     train_scores_mean + train_scores_std, alpha=0.1,\n",
    "                     color=\"r\")\n",
    "    plt.fill_between(train_sizes, test_scores_mean - test_scores_std,\n",
    "                     test_scores_mean + test_scores_std, alpha=0.1, color=\"g\")\n",
    "    plt.plot(train_sizes, train_scores_mean, 'o-', color=\"r\",\n",
    "             label=\"Training score\")\n",
    "    plt.plot(train_sizes, test_scores_mean, 'o-', color=\"g\",\n",
    "             label=\"Cross-validation score\")\n",
    "\n",
    "    plt.legend(loc=\"best\")\n",
    "    return plt\n",
    "\n",
    "\n",
    "cv = ShuffleSplit(n_splits=5, test_size=0.2, random_state=0)\n",
    "\n",
    "for k in [\"entity\", \"attribute\"]:\n",
    "    X = dataset[[\"context\", \"target\", \"corpus_index\"]]\n",
    "    if k == \"entity\":\n",
    "        y = dataset[\"entity\"].tolist()\n",
    "        estimator = entity_model \n",
    "    else:\n",
    "        y = dataset[\"attribute\"].tolist()\n",
    "        estimator = attribute_model\n",
    "    \n",
    "    plot_learning_curve(estimator, \"{} learning curve \".format(k), \n",
    "                                         X, y, ylim=(0.0, 1.01), cv=cv, n_jobs=4, verbose=2)\n",
    "\n",
    "plt.show()"
   ]
  },
  {
   "cell_type": "code",
   "execution_count": 32,
   "metadata": {},
   "outputs": [
    {
     "name": "stdout",
     "output_type": "stream",
     "text": [
      "                  precision    recall  f1-score   support\n",
      "\n",
      " business#amount       0.39      0.45      0.42       138\n",
      "   business#cost       0.50      0.07      0.12        29\n",
      "business#general       0.46      0.54      0.50       120\n",
      "  business#price       0.36      0.25      0.30        16\n",
      " business#profit       0.41      0.22      0.28       209\n",
      "  business#sales       0.57      0.68      0.62       430\n",
      "  company#amount       0.74      0.52      0.61        27\n",
      "    company#cost       1.00      0.67      0.80         3\n",
      " company#general       0.45      0.50      0.48        10\n",
      "  company#profit       0.38      0.19      0.25        16\n",
      "   company#sales       0.44      0.56      0.49        25\n",
      "   market#amount       0.00      0.00      0.00         0\n",
      "     market#cost       0.00      0.00      0.00         0\n",
      "  market#general       0.97      0.59      0.73       102\n",
      "   market#profit       0.00      0.00      0.00         0\n",
      "    market#sales       0.00      0.00      0.00         0\n",
      "  product#amount       0.73      0.67      0.70       465\n",
      "    product#cost       0.00      0.00      0.00         1\n",
      " product#general       0.62      0.70      0.66       199\n",
      "   product#price       0.00      0.00      0.00        17\n",
      "  product#profit       0.00      0.00      0.00         6\n",
      "   product#sales       0.60      0.72      0.65       313\n",
      "\n",
      "     avg / total       0.59      0.58      0.58      2126\n",
      "\n"
     ]
    },
    {
     "name": "stderr",
     "output_type": "stream",
     "text": [
      "/Users/smap6/develop/source/chABSA-dataset/venv/lib/python3.6/site-packages/sklearn/metrics/classification.py:1137: UndefinedMetricWarning: Recall and F-score are ill-defined and being set to 0.0 in labels with no true samples.\n",
      "  'recall', 'true', average, warn_for)\n"
     ]
    }
   ],
   "source": [
    "from sklearn.model_selection import train_test_split\n",
    "from sklearn.metrics import classification_report\n",
    "\n",
    "\n",
    "X = dataset[[\"context\", \"target\", \"corpus_index\"]]\n",
    "y = dataset[[\"label\", \"entity\", \"attribute\"]]\n",
    "\n",
    "X_train, X_test, y_train, y_test = train_test_split(X, y, test_size=0.33, random_state=42)\n",
    "\n",
    "entity_model.fit(X_train, y_train[\"entity\"])\n",
    "attribute_model.fit(X_train, y_train[\"attribute\"])\n",
    "\n",
    "y_true = y_test[\"label\"].tolist()\n",
    "y_pred = []\n",
    "for e, a in zip(entity_model.predict(X_test), attribute_model.predict(X_test)):\n",
    "    y_pred.append(\"{}#{}\".format(e, a))\n",
    "\n",
    "print(classification_report(y_true, y_pred))"
   ]
  },
  {
   "cell_type": "code",
   "execution_count": null,
   "metadata": {},
   "outputs": [],
   "source": []
  }
 ],
 "metadata": {
  "kernelspec": {
   "display_name": "Python 3",
   "language": "python",
   "name": "python3"
  },
  "language_info": {
   "codemirror_mode": {
    "name": "ipython",
    "version": 3
   },
   "file_extension": ".py",
   "mimetype": "text/x-python",
   "name": "python",
   "nbconvert_exporter": "python",
   "pygments_lexer": "ipython3",
   "version": "3.6.4"
  }
 },
 "nbformat": 4,
 "nbformat_minor": 2
}
