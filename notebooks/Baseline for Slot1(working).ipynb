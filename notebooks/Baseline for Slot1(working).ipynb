{
 "cells": [
  {
   "cell_type": "markdown",
   "metadata": {},
   "source": [
    "## Baseline for Slot1"
   ]
  },
  {
   "cell_type": "markdown",
   "metadata": {},
   "source": [
    "## Check dataset existence"
   ]
  },
  {
   "cell_type": "code",
   "execution_count": 1,
   "metadata": {},
   "outputs": [
    {
     "name": "stdout",
     "output_type": "stream",
     "text": [
      "230 files exist.\n"
     ]
    }
   ],
   "source": [
    "# check data existence\n",
    "from pathlib import Path\n",
    "\n",
    "\n",
    "data_folder = Path.cwd().parent.joinpath(\"data/processed\")\n",
    "\n",
    "def check_data_existence(folder):\n",
    "    file_count = len(list(folder.glob(\"e*_ann.json\")))\n",
    "    if  file_count == 0:\n",
    "        raise Exception(\"Processed Data does not exist.\")\n",
    "    else:\n",
    "        print(\"{} files exist.\".format(file_count))\n",
    "\n",
    "\n",
    "check_data_existence(data_folder)"
   ]
  },
  {
   "cell_type": "markdown",
   "metadata": {},
   "source": [
    "## Read Slot1 data to DataFrame\n",
    "\n",
    "Basic strategy\n",
    "\n",
    "* Predict the attribute from sentence. Because attribute keywords not\n"
   ]
  },
  {
   "cell_type": "code",
   "execution_count": 79,
   "metadata": {},
   "outputs": [],
   "source": [
    "# Slot1 predicts E#A label from entity and sentence\n",
    "import json\n",
    "import pandas as pd\n",
    "from collections import Counter\n",
    "from janome.tokenizer import Tokenizer\n",
    "\n",
    "\n",
    "dataset = []\n",
    "word_freq = Counter()\n",
    "word_freq_t = Counter()\n",
    "tokenizer = Tokenizer(wakati=True)\n",
    "WINDOW_SIZE = 3\n",
    "PAD = \"__PAD__\"\n",
    "UNK = \"__UNK__\"\n",
    "\n",
    "\n",
    "def format_word(word):\n",
    "    if word.isdigit():\n",
    "        return \"0\"\n",
    "    else:\n",
    "        return word\n",
    "\n",
    "\n",
    "def register_words(words, target=False):\n",
    "    for w in words:\n",
    "        if target:\n",
    "            word_freq_t[w] += 1\n",
    "        else:\n",
    "            word_freq[format_word(w)] += 1\n",
    "\n",
    "        \n",
    "# convert 'from' 'to' to position on token\n",
    "def convert_position(f, t, tokens):\n",
    "    text = \"\"\n",
    "    t_f = -1\n",
    "    t_t = -1\n",
    "    for i, x in enumerate(tokens):\n",
    "        text += x\n",
    "        if t_f < 0 and len(text) > f:\n",
    "            t_f = i\n",
    "        if t_f >= 0 and t_t < 0 and len(text) > t:\n",
    "            t_t = i\n",
    "            break\n",
    "\n",
    "    return t_f, t_t\n",
    "        \n",
    "\n",
    "for f in data_folder.glob(\"e*_ann.json\"):\n",
    "    with f.open(encoding=\"utf-8\") as j:\n",
    "        d = json.load(j)        \n",
    "        for s in d[\"sentences\"]:\n",
    "            # register words\n",
    "            tokenized = tokenizer.tokenize(s[\"sentence\"])\n",
    "            register_words(tokenized)\n",
    "\n",
    "            length = \"\"\n",
    "            for o in s[\"opinions\"]:\n",
    "                targets = tokenizer.tokenize(o[\"target\"])\n",
    "                register_words(targets, target=True)\n",
    "\n",
    "                # we need to convert position on str to position on word array\n",
    "                f_t, t_t = convert_position(o[\"from\"], o[\"to\"], tokenized)\n",
    "                \n",
    "                # get context = before WINDOW_SIZE words + after WINDOW_SIZE words\n",
    "                for t, p in zip(targets, range(f_t, t_t + 1)):\n",
    "                    f_context = tokenized[max(0, p - WINDOW_SIZE) :p]\n",
    "                    b_context = tokenized[(p + 1): (p  + 1 + WINDOW_SIZE)]\n",
    "                    \n",
    "                    f_context = ([PAD] * WINDOW_SIZE + f_context)[-WINDOW_SIZE:]\n",
    "                    b_context = (b_context + [PAD] * WINDOW_SIZE)[:WINDOW_SIZE]\n",
    "                    context = [format_word(x) for x in (f_context + b_context)]\n",
    "                    \n",
    "                    line = {\n",
    "                        \"label\": o[\"category\"],\n",
    "                        \"entity\": o[\"category\"].split(\"#\")[0],\n",
    "                        \"target\": t,\n",
    "                        \"context\":  context\n",
    "                    }\n",
    "                    dataset.append(line)"
   ]
  },
  {
   "cell_type": "code",
   "execution_count": 80,
   "metadata": {},
   "outputs": [],
   "source": [
    "%matplotlib inline"
   ]
  },
  {
   "cell_type": "code",
   "execution_count": 81,
   "metadata": {},
   "outputs": [
    {
     "data": {
      "text/plain": [
       "<matplotlib.axes._subplots.AxesSubplot at 0x105570160>"
      ]
     },
     "execution_count": 81,
     "metadata": {},
     "output_type": "execute_result"
    },
    {
     "data": {
      "image/png": "[encoded data removed]",
      "text/plain": [
       "<matplotlib.figure.Figure at 0x112440da0>"
      ]
     },
     "metadata": {},
     "output_type": "display_data"
    }
   ],
   "source": [
    "dataset = pd.DataFrame(dataset)\n",
    "dataset.tail(5)\n",
    "dataset.groupby(\"entity\").count()[\"label\"].plot.pie(figsize=(5, 5))"
   ]
  },
  {
   "cell_type": "code",
   "execution_count": 199,
   "metadata": {},
   "outputs": [
    {
     "data": {
      "text/plain": [
       "label\n",
       "business#sales      1458\n",
       "product#amount      1441\n",
       "product#sales        975\n",
       "product#general      677\n",
       "business#profit      641\n",
       "business#amount      391\n",
       "business#general     369\n",
       "market#general       338\n",
       "company#sales         97\n",
       "business#cost         85\n",
       "company#amount        80\n",
       "company#profit        61\n",
       "product#price         54\n",
       "business#price        54\n",
       "company#general       40\n",
       "product#profit        22\n",
       "company#cost          11\n",
       "product#cost          10\n",
       "Name: target, dtype: int64"
      ]
     },
     "execution_count": 199,
     "metadata": {},
     "output_type": "execute_result"
    }
   ],
   "source": [
    "dataset.groupby(\"label\").count()[\"target\"].sort_values(ascending=False)"
   ]
  },
  {
   "cell_type": "code",
   "execution_count": 82,
   "metadata": {},
   "outputs": [],
   "source": [
    "# Filter NULL / OOD entity\n",
    "dataset = dataset[(dataset[\"entity\"] != \"NULL\") & (dataset[\"entity\"] != \"OOD\")]"
   ]
  },
  {
   "cell_type": "code",
   "execution_count": 135,
   "metadata": {},
   "outputs": [
    {
     "name": "stdout",
     "output_type": "stream",
     "text": [
      "6804 data is available.\n"
     ]
    }
   ],
   "source": [
    "# reset index from 0    \n",
    "dataset.reset_index(drop=True, inplace=True)\n",
    "# show dataset size\n",
    "print(\"{} data is available.\".format(len(dataset)))"
   ]
  },
  {
   "cell_type": "code",
   "execution_count": 136,
   "metadata": {},
   "outputs": [
    {
     "data": {
      "text/html": [
       "<div>\n",
       "<style scoped>\n",
       "    .dataframe tbody tr th:only-of-type {\n",
       "        vertical-align: middle;\n",
       "    }\n",
       "\n",
       "    .dataframe tbody tr th {\n",
       "        vertical-align: top;\n",
       "    }\n",
       "\n",
       "    .dataframe thead th {\n",
       "        text-align: right;\n",
       "    }\n",
       "</style>\n",
       "<table border=\"1\" class=\"dataframe\">\n",
       "  <thead>\n",
       "    <tr style=\"text-align: right;\">\n",
       "      <th></th>\n",
       "      <th>context</th>\n",
       "      <th>entity</th>\n",
       "      <th>label</th>\n",
       "      <th>target</th>\n",
       "    </tr>\n",
       "  </thead>\n",
       "  <tbody>\n",
       "    <tr>\n",
       "      <th>0</th>\n",
       "      <td>[__PAD__, __PAD__, 当, 業界, におきまして, は]</td>\n",
       "      <td>market</td>\n",
       "      <td>market#general</td>\n",
       "      <td>歯科</td>\n",
       "    </tr>\n",
       "    <tr>\n",
       "      <th>1</th>\n",
       "      <td>[__PAD__, 当, 歯科, におきまして, は, 、]</td>\n",
       "      <td>market</td>\n",
       "      <td>market#general</td>\n",
       "      <td>業界</td>\n",
       "    </tr>\n",
       "    <tr>\n",
       "      <th>2</th>\n",
       "      <td>[分野, で, ある, 品, や, ＣＡＤ]</td>\n",
       "      <td>product</td>\n",
       "      <td>product#sales</td>\n",
       "      <td>化工</td>\n",
       "    </tr>\n",
       "    <tr>\n",
       "      <th>3</th>\n",
       "      <td>[で, ある, 化工, や, ＣＡＤ, /]</td>\n",
       "      <td>product</td>\n",
       "      <td>product#sales</td>\n",
       "      <td>品</td>\n",
       "    </tr>\n",
       "    <tr>\n",
       "      <th>4</th>\n",
       "      <td>[化工, 品, や, /, ＣＡＭ, 関連]</td>\n",
       "      <td>product</td>\n",
       "      <td>product#sales</td>\n",
       "      <td>ＣＡＤ</td>\n",
       "    </tr>\n",
       "  </tbody>\n",
       "</table>\n",
       "</div>"
      ],
      "text/plain": [
       "                                context   entity           label target\n",
       "0  [__PAD__, __PAD__, 当, 業界, におきまして, は]   market  market#general     歯科\n",
       "1        [__PAD__, 当, 歯科, におきまして, は, 、]   market  market#general     業界\n",
       "2                [分野, で, ある, 品, や, ＣＡＤ]  product   product#sales     化工\n",
       "3                [で, ある, 化工, や, ＣＡＤ, /]  product   product#sales      品\n",
       "4                [化工, 品, や, /, ＣＡＭ, 関連]  product   product#sales    ＣＡＤ"
      ]
     },
     "execution_count": 136,
     "metadata": {},
     "output_type": "execute_result"
    }
   ],
   "source": [
    "dataset.head(5)"
   ]
  },
  {
   "cell_type": "code",
   "execution_count": 137,
   "metadata": {},
   "outputs": [
    {
     "name": "stdout",
     "output_type": "stream",
     "text": [
      "Vocabulary size is 4213 (less than 3 frequency word is excluded)\n"
     ]
    }
   ],
   "source": [
    "vocab = [PAD, UNK]\n",
    "min_freq = 3\n",
    "\n",
    "for term, freq in word_freq_t.most_common():\n",
    "    vocab.append(term)\n",
    "for term, freq in word_freq.most_common():\n",
    "    if freq >= min_freq and term not in vocab:\n",
    "        vocab.append(term)\n",
    "        \n",
    "print(\"Vocabulary size is {} (less than {} frequency word is excluded)\".format(len(vocab), min_freq))"
   ]
  },
  {
   "cell_type": "markdown",
   "metadata": {},
   "source": [
    "## Prepare the word vector"
   ]
  },
  {
   "cell_type": "code",
   "execution_count": 153,
   "metadata": {},
   "outputs": [],
   "source": [
    "# check pretrained vector existence\n",
    "EMBED_SIZE = 300  # fastText is 300dim\n",
    "word_vector_path = Path.cwd().joinpath(\"wiki.ja.vec\")\n",
    "if not word_vector_path.exists():\n",
    "    raise Exception(\"Pre-trained word vector is not downloaded. Please execute download_fast_text.py.\")"
   ]
  },
  {
   "cell_type": "code",
   "execution_count": 139,
   "metadata": {},
   "outputs": [
    {
     "name": "stdout",
     "output_type": "stream",
     "text": [
      "load word embeddings (3601 / 4213 is loaded).\n"
     ]
    }
   ],
   "source": [
    "import numpy as np\n",
    "\n",
    "\n",
    "embedding_matrix = np.zeros((len(vocab), EMBED_SIZE)) \n",
    "\n",
    "hit_count = -1\n",
    "with word_vector_path.open(encoding=\"utf-8\") as f:\n",
    "    for line in f:\n",
    "        if hit_count == -1:\n",
    "            hit_count = 0\n",
    "            continue  # skip first line that has (vocab_size, vector_size)\n",
    "\n",
    "        values = line.split()\n",
    "        word = values[0]\n",
    "        vector = np.asarray(values[1:], dtype=\"float32\")\n",
    "        if word in vocab:\n",
    "            hit_count += 1\n",
    "            index = vocab.index(word)\n",
    "            embedding_matrix[index] = vector\n",
    "\n",
    "print(\"load word embeddings ({} / {} is loaded).\".format(hit_count, len(vocab)))"
   ]
  },
  {
   "cell_type": "markdown",
   "metadata": {},
   "source": [
    "## Make Baseline Model\n",
    "\n",
    "* Baseline Model predicts the label from concatenated vector of context & target.\n"
   ]
  },
  {
   "cell_type": "code",
   "execution_count": 154,
   "metadata": {},
   "outputs": [
    {
     "name": "stdout",
     "output_type": "stream",
     "text": [
      "Label count is 18.\n"
     ]
    }
   ],
   "source": [
    "labels = sorted(dataset.groupby(\"label\").groups.keys())\n",
    "print(\"Label count is {}.\".format(len(labels)))"
   ]
  },
  {
   "cell_type": "code",
   "execution_count": 178,
   "metadata": {},
   "outputs": [],
   "source": [
    "from keras.layers import Input\n",
    "from keras import regularizers\n",
    "from keras.layers.core import Activation, Dense, Flatten\n",
    "from keras.layers.embeddings import Embedding\n",
    "from keras.models import Model\n",
    "from keras.utils import to_categorical\n",
    "\n",
    "\n",
    "input_length = WINDOW_SIZE * 2 + 1\n",
    "embedding_layer = Embedding(\n",
    "                            len(vocab),\n",
    "                            EMBED_SIZE,\n",
    "                            input_length=input_length,\n",
    "                            weights=[embedding_matrix])\n",
    "\n",
    "inputs = Input(shape=(input_length, ))\n",
    "vector = Flatten()(embedding_layer(inputs))\n",
    "hidden = Dense(len(labels), kernel_regularizer=regularizers.l1())(vector)\n",
    "outputs = Activation(\"softmax\")(hidden)\n",
    "\n",
    "model = Model(inputs=inputs, outputs=outputs)"
   ]
  },
  {
   "cell_type": "code",
   "execution_count": 176,
   "metadata": {},
   "outputs": [
    {
     "name": "stdout",
     "output_type": "stream",
     "text": [
      "(6804, 7)\n",
      "(6804, 18)\n"
     ]
    }
   ],
   "source": [
    "X = np.zeros((len(dataset), input_length))\n",
    "y = np.zeros(len(dataset))\n",
    "\n",
    "\n",
    "def to_index(word):\n",
    "    if word in vocab:\n",
    "        return vocab.index(word)\n",
    "    else:\n",
    "        return vocab.index(UNK)\n",
    "\n",
    "\n",
    "for index, row in dataset.iterrows():\n",
    "    tokens = (row[\"context\"] + [row[\"target\"]])\n",
    "    indicies = [to_index(t) for t in tokens]\n",
    "    X[index] = indicies\n",
    "    y[index] = labels.index(row[\"label\"])\n",
    "\n",
    "y = to_categorical(y, num_classes=len(labels))\n",
    "print(X.shape)\n",
    "print(y.shape)"
   ]
  },
  {
   "cell_type": "markdown",
   "metadata": {},
   "source": [
    "## Train the Model"
   ]
  },
  {
   "cell_type": "code",
   "execution_count": 196,
   "metadata": {},
   "outputs": [
    {
     "data": {
      "application/vnd.jupyter.widget-view+json": {
       "model_id": "d6644c22840846999befecd3369e4be9",
       "version_major": 2,
       "version_minor": 0
      },
      "text/html": [
       "<p>Failed to display Jupyter Widget of type <code>HBox</code>.</p>\n",
       "<p>\n",
       "  If you're reading this message in the Jupyter Notebook or JupyterLab Notebook, it may mean\n",
       "  that the widgets JavaScript is still loading. If this message persists, it\n",
       "  likely means that the widgets JavaScript library is either not installed or\n",
       "  not enabled. See the <a href=\"https://ipywidgets.readthedocs.io/en/stable/user_install.html\">Jupyter\n",
       "  Widgets Documentation</a> for setup instructions.\n",
       "</p>\n",
       "<p>\n",
       "  If you're reading this message in another frontend (for example, a static\n",
       "  rendering on GitHub or <a href=\"https://nbviewer.jupyter.org/\">NBViewer</a>),\n",
       "  it may mean that your frontend doesn't currently support widgets.\n",
       "</p>\n"
      ],
      "text/plain": [
       "HBox(children=(IntProgress(value=0, description='Training', max=10), HTML(value='')))"
      ]
     },
     "metadata": {},
     "output_type": "display_data"
    },
    {
     "data": {
      "application/vnd.jupyter.widget-view+json": {
       "model_id": "74030e7889b54d468ada0b783ac6df87",
       "version_major": 2,
       "version_minor": 0
      },
      "text/html": [
       "<p>Failed to display Jupyter Widget of type <code>HBox</code>.</p>\n",
       "<p>\n",
       "  If you're reading this message in the Jupyter Notebook or JupyterLab Notebook, it may mean\n",
       "  that the widgets JavaScript is still loading. If this message persists, it\n",
       "  likely means that the widgets JavaScript library is either not installed or\n",
       "  not enabled. See the <a href=\"https://ipywidgets.readthedocs.io/en/stable/user_install.html\">Jupyter\n",
       "  Widgets Documentation</a> for setup instructions.\n",
       "</p>\n",
       "<p>\n",
       "  If you're reading this message in another frontend (for example, a static\n",
       "  rendering on GitHub or <a href=\"https://nbviewer.jupyter.org/\">NBViewer</a>),\n",
       "  it may mean that your frontend doesn't currently support widgets.\n",
       "</p>\n"
      ],
      "text/plain": [
       "HBox(children=(IntProgress(value=0, description='Epoch 0', max=4762), HTML(value='')))"
      ]
     },
     "metadata": {},
     "output_type": "display_data"
    },
    {
     "data": {
      "application/vnd.jupyter.widget-view+json": {
       "model_id": "e77fa077e14b40268e5ad6d6be2f7385",
       "version_major": 2,
       "version_minor": 0
      },
      "text/html": [
       "<p>Failed to display Jupyter Widget of type <code>HBox</code>.</p>\n",
       "<p>\n",
       "  If you're reading this message in the Jupyter Notebook or JupyterLab Notebook, it may mean\n",
       "  that the widgets JavaScript is still loading. If this message persists, it\n",
       "  likely means that the widgets JavaScript library is either not installed or\n",
       "  not enabled. See the <a href=\"https://ipywidgets.readthedocs.io/en/stable/user_install.html\">Jupyter\n",
       "  Widgets Documentation</a> for setup instructions.\n",
       "</p>\n",
       "<p>\n",
       "  If you're reading this message in another frontend (for example, a static\n",
       "  rendering on GitHub or <a href=\"https://nbviewer.jupyter.org/\">NBViewer</a>),\n",
       "  it may mean that your frontend doesn't currently support widgets.\n",
       "</p>\n"
      ],
      "text/plain": [
       "HBox(children=(IntProgress(value=0, description='Epoch 1', max=4762), HTML(value='')))"
      ]
     },
     "metadata": {},
     "output_type": "display_data"
    },
    {
     "data": {
      "application/vnd.jupyter.widget-view+json": {
       "model_id": "1fa5e88e85eb4013bc692a11d77006d7",
       "version_major": 2,
       "version_minor": 0
      },
      "text/html": [
       "<p>Failed to display Jupyter Widget of type <code>HBox</code>.</p>\n",
       "<p>\n",
       "  If you're reading this message in the Jupyter Notebook or JupyterLab Notebook, it may mean\n",
       "  that the widgets JavaScript is still loading. If this message persists, it\n",
       "  likely means that the widgets JavaScript library is either not installed or\n",
       "  not enabled. See the <a href=\"https://ipywidgets.readthedocs.io/en/stable/user_install.html\">Jupyter\n",
       "  Widgets Documentation</a> for setup instructions.\n",
       "</p>\n",
       "<p>\n",
       "  If you're reading this message in another frontend (for example, a static\n",
       "  rendering on GitHub or <a href=\"https://nbviewer.jupyter.org/\">NBViewer</a>),\n",
       "  it may mean that your frontend doesn't currently support widgets.\n",
       "</p>\n"
      ],
      "text/plain": [
       "HBox(children=(IntProgress(value=0, description='Epoch 2', max=4762), HTML(value='')))"
      ]
     },
     "metadata": {},
     "output_type": "display_data"
    },
    {
     "data": {
      "application/vnd.jupyter.widget-view+json": {
       "model_id": "cc9e6a9787c54a9d9e7f5cf1a4dfa919",
       "version_major": 2,
       "version_minor": 0
      },
      "text/html": [
       "<p>Failed to display Jupyter Widget of type <code>HBox</code>.</p>\n",
       "<p>\n",
       "  If you're reading this message in the Jupyter Notebook or JupyterLab Notebook, it may mean\n",
       "  that the widgets JavaScript is still loading. If this message persists, it\n",
       "  likely means that the widgets JavaScript library is either not installed or\n",
       "  not enabled. See the <a href=\"https://ipywidgets.readthedocs.io/en/stable/user_install.html\">Jupyter\n",
       "  Widgets Documentation</a> for setup instructions.\n",
       "</p>\n",
       "<p>\n",
       "  If you're reading this message in another frontend (for example, a static\n",
       "  rendering on GitHub or <a href=\"https://nbviewer.jupyter.org/\">NBViewer</a>),\n",
       "  it may mean that your frontend doesn't currently support widgets.\n",
       "</p>\n"
      ],
      "text/plain": [
       "HBox(children=(IntProgress(value=0, description='Epoch 3', max=4762), HTML(value='')))"
      ]
     },
     "metadata": {},
     "output_type": "display_data"
    },
    {
     "data": {
      "application/vnd.jupyter.widget-view+json": {
       "model_id": "4c80ee5dd3bb4825996b9ad539234090",
       "version_major": 2,
       "version_minor": 0
      },
      "text/html": [
       "<p>Failed to display Jupyter Widget of type <code>HBox</code>.</p>\n",
       "<p>\n",
       "  If you're reading this message in the Jupyter Notebook or JupyterLab Notebook, it may mean\n",
       "  that the widgets JavaScript is still loading. If this message persists, it\n",
       "  likely means that the widgets JavaScript library is either not installed or\n",
       "  not enabled. See the <a href=\"https://ipywidgets.readthedocs.io/en/stable/user_install.html\">Jupyter\n",
       "  Widgets Documentation</a> for setup instructions.\n",
       "</p>\n",
       "<p>\n",
       "  If you're reading this message in another frontend (for example, a static\n",
       "  rendering on GitHub or <a href=\"https://nbviewer.jupyter.org/\">NBViewer</a>),\n",
       "  it may mean that your frontend doesn't currently support widgets.\n",
       "</p>\n"
      ],
      "text/plain": [
       "HBox(children=(IntProgress(value=0, description='Epoch 4', max=4762), HTML(value='')))"
      ]
     },
     "metadata": {},
     "output_type": "display_data"
    },
    {
     "data": {
      "application/vnd.jupyter.widget-view+json": {
       "model_id": "513fc60aabee4c82ad64384739e53b2d",
       "version_major": 2,
       "version_minor": 0
      },
      "text/html": [
       "<p>Failed to display Jupyter Widget of type <code>HBox</code>.</p>\n",
       "<p>\n",
       "  If you're reading this message in the Jupyter Notebook or JupyterLab Notebook, it may mean\n",
       "  that the widgets JavaScript is still loading. If this message persists, it\n",
       "  likely means that the widgets JavaScript library is either not installed or\n",
       "  not enabled. See the <a href=\"https://ipywidgets.readthedocs.io/en/stable/user_install.html\">Jupyter\n",
       "  Widgets Documentation</a> for setup instructions.\n",
       "</p>\n",
       "<p>\n",
       "  If you're reading this message in another frontend (for example, a static\n",
       "  rendering on GitHub or <a href=\"https://nbviewer.jupyter.org/\">NBViewer</a>),\n",
       "  it may mean that your frontend doesn't currently support widgets.\n",
       "</p>\n"
      ],
      "text/plain": [
       "HBox(children=(IntProgress(value=0, description='Epoch 5', max=4762), HTML(value='')))"
      ]
     },
     "metadata": {},
     "output_type": "display_data"
    },
    {
     "data": {
      "application/vnd.jupyter.widget-view+json": {
       "model_id": "7094c05c0c644f308dc757eeb52460c0",
       "version_major": 2,
       "version_minor": 0
      },
      "text/html": [
       "<p>Failed to display Jupyter Widget of type <code>HBox</code>.</p>\n",
       "<p>\n",
       "  If you're reading this message in the Jupyter Notebook or JupyterLab Notebook, it may mean\n",
       "  that the widgets JavaScript is still loading. If this message persists, it\n",
       "  likely means that the widgets JavaScript library is either not installed or\n",
       "  not enabled. See the <a href=\"https://ipywidgets.readthedocs.io/en/stable/user_install.html\">Jupyter\n",
       "  Widgets Documentation</a> for setup instructions.\n",
       "</p>\n",
       "<p>\n",
       "  If you're reading this message in another frontend (for example, a static\n",
       "  rendering on GitHub or <a href=\"https://nbviewer.jupyter.org/\">NBViewer</a>),\n",
       "  it may mean that your frontend doesn't currently support widgets.\n",
       "</p>\n"
      ],
      "text/plain": [
       "HBox(children=(IntProgress(value=0, description='Epoch 6', max=4762), HTML(value='')))"
      ]
     },
     "metadata": {},
     "output_type": "display_data"
    },
    {
     "data": {
      "application/vnd.jupyter.widget-view+json": {
       "model_id": "c07edc67777742cfbfd08c0753132890",
       "version_major": 2,
       "version_minor": 0
      },
      "text/html": [
       "<p>Failed to display Jupyter Widget of type <code>HBox</code>.</p>\n",
       "<p>\n",
       "  If you're reading this message in the Jupyter Notebook or JupyterLab Notebook, it may mean\n",
       "  that the widgets JavaScript is still loading. If this message persists, it\n",
       "  likely means that the widgets JavaScript library is either not installed or\n",
       "  not enabled. See the <a href=\"https://ipywidgets.readthedocs.io/en/stable/user_install.html\">Jupyter\n",
       "  Widgets Documentation</a> for setup instructions.\n",
       "</p>\n",
       "<p>\n",
       "  If you're reading this message in another frontend (for example, a static\n",
       "  rendering on GitHub or <a href=\"https://nbviewer.jupyter.org/\">NBViewer</a>),\n",
       "  it may mean that your frontend doesn't currently support widgets.\n",
       "</p>\n"
      ],
      "text/plain": [
       "HBox(children=(IntProgress(value=0, description='Epoch 7', max=4762), HTML(value='')))"
      ]
     },
     "metadata": {},
     "output_type": "display_data"
    },
    {
     "data": {
      "application/vnd.jupyter.widget-view+json": {
       "model_id": "40bdaa8d824d4e7faadd76efb21b47bd",
       "version_major": 2,
       "version_minor": 0
      },
      "text/html": [
       "<p>Failed to display Jupyter Widget of type <code>HBox</code>.</p>\n",
       "<p>\n",
       "  If you're reading this message in the Jupyter Notebook or JupyterLab Notebook, it may mean\n",
       "  that the widgets JavaScript is still loading. If this message persists, it\n",
       "  likely means that the widgets JavaScript library is either not installed or\n",
       "  not enabled. See the <a href=\"https://ipywidgets.readthedocs.io/en/stable/user_install.html\">Jupyter\n",
       "  Widgets Documentation</a> for setup instructions.\n",
       "</p>\n",
       "<p>\n",
       "  If you're reading this message in another frontend (for example, a static\n",
       "  rendering on GitHub or <a href=\"https://nbviewer.jupyter.org/\">NBViewer</a>),\n",
       "  it may mean that your frontend doesn't currently support widgets.\n",
       "</p>\n"
      ],
      "text/plain": [
       "HBox(children=(IntProgress(value=0, description='Epoch 8', max=4762), HTML(value='')))"
      ]
     },
     "metadata": {},
     "output_type": "display_data"
    },
    {
     "data": {
      "application/vnd.jupyter.widget-view+json": {
       "model_id": "ff3210545a614bc39d298c242b57def8",
       "version_major": 2,
       "version_minor": 0
      },
      "text/html": [
       "<p>Failed to display Jupyter Widget of type <code>HBox</code>.</p>\n",
       "<p>\n",
       "  If you're reading this message in the Jupyter Notebook or JupyterLab Notebook, it may mean\n",
       "  that the widgets JavaScript is still loading. If this message persists, it\n",
       "  likely means that the widgets JavaScript library is either not installed or\n",
       "  not enabled. See the <a href=\"https://ipywidgets.readthedocs.io/en/stable/user_install.html\">Jupyter\n",
       "  Widgets Documentation</a> for setup instructions.\n",
       "</p>\n",
       "<p>\n",
       "  If you're reading this message in another frontend (for example, a static\n",
       "  rendering on GitHub or <a href=\"https://nbviewer.jupyter.org/\">NBViewer</a>),\n",
       "  it may mean that your frontend doesn't currently support widgets.\n",
       "</p>\n"
      ],
      "text/plain": [
       "HBox(children=(IntProgress(value=0, description='Epoch 9', max=4762), HTML(value='')))"
      ]
     },
     "metadata": {},
     "output_type": "display_data"
    },
    {
     "name": "stdout",
     "output_type": "stream",
     "text": [
      "\n"
     ]
    },
    {
     "data": {
      "text/plain": [
       "<keras.callbacks.History at 0x123f36c50>"
      ]
     },
     "execution_count": 196,
     "metadata": {},
     "output_type": "execute_result"
    }
   ],
   "source": [
    "from keras_tqdm import TQDMNotebookCallback\n",
    "from sklearn.model_selection import train_test_split\n",
    "\n",
    "\n",
    "X_train, X_test, y_train, y_test = train_test_split(X, y, test_size=0.3)\n",
    "\n",
    "model.compile(loss=\"categorical_crossentropy\", optimizer=\"rmsprop\", metrics=['acc'])\n",
    "model.fit(\n",
    "    X_train, y_train, validation_data=(X_test, y_test), \n",
    "    batch_size=64, epochs=10, \n",
    "    verbose=0, callbacks=[TQDMNotebookCallback()])"
   ]
  },
  {
   "cell_type": "code",
   "execution_count": 195,
   "metadata": {},
   "outputs": [
    {
     "name": "stdout",
     "output_type": "stream",
     "text": [
      "                  precision    recall  f1-score   support\n",
      "\n",
      " business#amount       0.00      0.00      0.00       146\n",
      "   business#cost       0.00      0.00      0.00        23\n",
      "business#general       0.00      0.00      0.00       124\n",
      "  business#price       0.00      0.00      0.00        19\n",
      " business#profit       0.00      0.00      0.00       202\n",
      "  business#sales       0.52      0.03      0.06       407\n",
      "  company#amount       0.00      0.00      0.00        25\n",
      "    company#cost       0.00      0.00      0.00         3\n",
      " company#general       0.00      0.00      0.00        12\n",
      "  company#profit       0.00      0.00      0.00        15\n",
      "   company#sales       0.33      0.04      0.07        26\n",
      "  market#general       0.05      1.00      0.10       103\n",
      "  product#amount       0.00      0.00      0.00       433\n",
      "    product#cost       0.00      0.00      0.00         1\n",
      " product#general       0.00      0.00      0.00       198\n",
      "   product#price       0.00      0.00      0.00        15\n",
      "  product#profit       0.00      0.00      0.00         5\n",
      "   product#sales       0.00      0.00      0.00       285\n",
      "\n",
      "     avg / total       0.11      0.06      0.02      2042\n",
      "\n"
     ]
    },
    {
     "name": "stderr",
     "output_type": "stream",
     "text": [
      "/Users/smap6/develop/source/chABSA-dataset/venv/lib/python3.6/site-packages/sklearn/metrics/classification.py:1135: UndefinedMetricWarning: Precision and F-score are ill-defined and being set to 0.0 in labels with no predicted samples.\n",
      "  'precision', 'predicted', average, warn_for)\n"
     ]
    }
   ],
   "source": [
    "from sklearn.metrics import classification_report\n",
    "\n",
    "\n",
    "y_pred = np.argmax(model.predict(X_test), axis=1)\n",
    "y_true = np.argmax(y_test, axis=1)\n",
    "print(classification_report(y_true, y_pred, target_names=labels))"
   ]
  },
  {
   "cell_type": "code",
   "execution_count": null,
   "metadata": {},
   "outputs": [],
   "source": []
  }
 ],
 "metadata": {
  "kernelspec": {
   "display_name": "Python 3",
   "language": "python",
   "name": "python3"
  },
  "language_info": {
   "codemirror_mode": {
    "name": "ipython",
    "version": 3
   },
   "file_extension": ".py",
   "mimetype": "text/x-python",
   "name": "python",
   "nbconvert_exporter": "python",
   "pygments_lexer": "ipython3",
   "version": "3.6.4"
  }
 },
 "nbformat": 4,
 "nbformat_minor": 2
}
