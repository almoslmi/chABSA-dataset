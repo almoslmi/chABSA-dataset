{
 "cells": [
  {
   "cell_type": "markdown",
   "metadata": {},
   "source": [
    "## Baseline for Slot1"
   ]
  },
  {
   "cell_type": "markdown",
   "metadata": {},
   "source": [
    "## Check dataset existence"
   ]
  },
  {
   "cell_type": "code",
   "execution_count": 286,
   "metadata": {},
   "outputs": [
    {
     "name": "stdout",
     "output_type": "stream",
     "text": [
      "230 files exist.\n"
     ]
    }
   ],
   "source": [
    "# check data existence\n",
    "from pathlib import Path\n",
    "\n",
    "\n",
    "data_folder = Path.cwd().parent.joinpath(\"data/processed\")\n",
    "\n",
    "def check_data_existence(folder):\n",
    "    file_count = len(list(folder.glob(\"e*_ann.json\")))\n",
    "    if  file_count == 0:\n",
    "        raise Exception(\"Processed Data does not exist.\")\n",
    "    else:\n",
    "        print(\"{} files exist.\".format(file_count))\n",
    "\n",
    "\n",
    "check_data_existence(data_folder)"
   ]
  },
  {
   "cell_type": "markdown",
   "metadata": {},
   "source": [
    "## Read Slot1 data to DataFrame"
   ]
  },
  {
   "cell_type": "code",
   "execution_count": 307,
   "metadata": {},
   "outputs": [],
   "source": [
    "# Slot1 predicts E#A label from entity and sentence\n",
    "import json\n",
    "import pandas as pd\n",
    "from collections import Counter\n",
    "from janome.tokenizer import Tokenizer\n",
    "\n",
    "\n",
    "dataset = []\n",
    "word_freq = Counter()\n",
    "tokenizer = Tokenizer()\n",
    "WINDOW_SIZE = 3\n",
    "PAD = \"__PAD__\"\n",
    "UNK = \"__UNK__\"\n",
    "\n",
    "\n",
    "def format_word(word):\n",
    "    if word.isdigit():\n",
    "        return \"0\"\n",
    "    else:\n",
    "        return word\n",
    "\n",
    "    \n",
    "# convert 'from' 'to' to position on token\n",
    "def convert_position(f, t, tokens):\n",
    "    text = \"\"\n",
    "    t_f = -1\n",
    "    t_t = -1\n",
    "    for i, x in enumerate(tokens):\n",
    "        text += x.surface\n",
    "        if t_f < 0 and len(text) > f:\n",
    "            t_f = i\n",
    "        if t_f >= 0 and t_t < 0 and len(text) > t:\n",
    "            t_t = i\n",
    "            break\n",
    "\n",
    "    return t_f, t_t\n",
    "\n",
    "\n",
    "def get_context(p, tokens):\n",
    "    # forward context\n",
    "    forward = []\n",
    "    for i in range(p - 1, -1, -1):\n",
    "        pos = tokens[i].part_of_speech.split(\",\")\n",
    "        if pos[0] == \"名詞\":\n",
    "            forward.append(tokens[i].surface)\n",
    "            if len(forward) >= WINDOW_SIZE:\n",
    "                break\n",
    "    forward.reverse()\n",
    "    forward = ([PAD] * WINDOW_SIZE + forward)[-WINDOW_SIZE:]\n",
    "    \n",
    "    # backward context\n",
    "    backward = []\n",
    "    for i in range(p + 1, len(tokens)):\n",
    "        pos = tokens[i].part_of_speech.split(\",\")\n",
    "        if pos[0] == \"名詞\":\n",
    "            backward.append(tokens[i].surface)\n",
    "            if len(forward) >= WINDOW_SIZE * 2:\n",
    "                break\n",
    "    backward = (backward + [PAD] * WINDOW_SIZE)[:WINDOW_SIZE]\n",
    "    \n",
    "    return forward, backward\n",
    "\n",
    "\n",
    "for f in data_folder.glob(\"e*_ann.json\"):\n",
    "    with f.open(encoding=\"utf-8\") as j:\n",
    "        d = json.load(j)        \n",
    "        for s in d[\"sentences\"]:\n",
    "            # register words\n",
    "            tokenized = tokenizer.tokenize(s[\"sentence\"])\n",
    "\n",
    "            length = \"\"\n",
    "            for o in s[\"opinions\"]:\n",
    "                targets = tokenizer.tokenize(o[\"target\"])\n",
    "                register_words(targets, target=True)\n",
    "\n",
    "                # we need to convert position on str to position on word array\n",
    "                f_t, t_t = convert_position(o[\"from\"], o[\"to\"], tokenized)\n",
    "                \n",
    "                # get context = before WINDOW_SIZE words + after WINDOW_SIZE words\n",
    "                for t, p in zip(targets, range(f_t, t_t + 1)):\n",
    "                    f_context, b_context = get_context(p, tokenized)\n",
    "                    context = [format_word(x) for x in (f_context + b_context)]\n",
    "                    \n",
    "                    for w in context:\n",
    "                        word_freq[w] += 1\n",
    "                    word_freq[t.surface] += 1\n",
    "                    \n",
    "                    line = {\n",
    "                        \"label\": o[\"category\"],\n",
    "                        \"entity\": o[\"category\"].split(\"#\")[0],\n",
    "                        \"attribute\": o[\"category\"].split(\"#\")[1],\n",
    "                        \"target\": t.surface,\n",
    "                        \"context\":  context\n",
    "                    }\n",
    "                    dataset.append(line)"
   ]
  },
  {
   "cell_type": "code",
   "execution_count": 308,
   "metadata": {},
   "outputs": [],
   "source": [
    "%matplotlib inline"
   ]
  },
  {
   "cell_type": "code",
   "execution_count": 309,
   "metadata": {},
   "outputs": [
    {
     "data": {
      "text/plain": [
       "<matplotlib.axes._subplots.AxesSubplot at 0x137d41a58>"
      ]
     },
     "execution_count": 309,
     "metadata": {},
     "output_type": "execute_result"
    },
    {
     "data": {
      "image/png": "[encoded data removed]",
      "text/plain": [
       "<matplotlib.figure.Figure at 0x137d41978>"
      ]
     },
     "metadata": {},
     "output_type": "display_data"
    }
   ],
   "source": [
    "dataset = pd.DataFrame(dataset)\n",
    "dataset.groupby(\"entity\").count()[\"label\"].plot.pie(figsize=(5, 5))"
   ]
  },
  {
   "cell_type": "code",
   "execution_count": 310,
   "metadata": {},
   "outputs": [
    {
     "data": {
      "text/html": [
       "<div>\n",
       "<style scoped>\n",
       "    .dataframe tbody tr th:only-of-type {\n",
       "        vertical-align: middle;\n",
       "    }\n",
       "\n",
       "    .dataframe tbody tr th {\n",
       "        vertical-align: top;\n",
       "    }\n",
       "\n",
       "    .dataframe thead th {\n",
       "        text-align: right;\n",
       "    }\n",
       "</style>\n",
       "<table border=\"1\" class=\"dataframe\">\n",
       "  <thead>\n",
       "    <tr style=\"text-align: right;\">\n",
       "      <th></th>\n",
       "      <th>attribute</th>\n",
       "      <th>context</th>\n",
       "      <th>entity</th>\n",
       "      <th>label</th>\n",
       "      <th>target</th>\n",
       "    </tr>\n",
       "  </thead>\n",
       "  <tbody>\n",
       "    <tr>\n",
       "      <th>0</th>\n",
       "      <td>general</td>\n",
       "      <td>[経済, 米国, 中心, 堅調, 推移, 英国]</td>\n",
       "      <td>OOD</td>\n",
       "      <td>OOD#general</td>\n",
       "      <td>景気</td>\n",
       "    </tr>\n",
       "    <tr>\n",
       "      <th>1</th>\n",
       "      <td>general</td>\n",
       "      <td>[確実, 性, 景気, 不透明, 状況, __PAD__]</td>\n",
       "      <td>OOD</td>\n",
       "      <td>OOD#general</td>\n",
       "      <td>先行き</td>\n",
       "    </tr>\n",
       "    <tr>\n",
       "      <th>2</th>\n",
       "      <td>general</td>\n",
       "      <td>[__PAD__, __PAD__, __PAD__, 経済, 企業, 収益]</td>\n",
       "      <td>OOD</td>\n",
       "      <td>OOD#general</td>\n",
       "      <td>国内</td>\n",
       "    </tr>\n",
       "    <tr>\n",
       "      <th>3</th>\n",
       "      <td>general</td>\n",
       "      <td>[__PAD__, __PAD__, 国内, 企業, 収益, 雇用]</td>\n",
       "      <td>OOD</td>\n",
       "      <td>OOD#general</td>\n",
       "      <td>経済</td>\n",
       "    </tr>\n",
       "    <tr>\n",
       "      <th>4</th>\n",
       "      <td>general</td>\n",
       "      <td>[__PAD__, 国内, 経済, 収益, 雇用, 所得]</td>\n",
       "      <td>OOD</td>\n",
       "      <td>OOD#general</td>\n",
       "      <td>企業</td>\n",
       "    </tr>\n",
       "    <tr>\n",
       "      <th>5</th>\n",
       "      <td>general</td>\n",
       "      <td>[国内, 経済, 企業, 雇用, 所得, 環境]</td>\n",
       "      <td>OOD</td>\n",
       "      <td>OOD#general</td>\n",
       "      <td>収益</td>\n",
       "    </tr>\n",
       "    <tr>\n",
       "      <th>6</th>\n",
       "      <td>general</td>\n",
       "      <td>[経済, 企業, 収益, 所得, 環境, さ]</td>\n",
       "      <td>OOD</td>\n",
       "      <td>OOD#general</td>\n",
       "      <td>雇用</td>\n",
       "    </tr>\n",
       "    <tr>\n",
       "      <th>7</th>\n",
       "      <td>general</td>\n",
       "      <td>[企業, 収益, 雇用, 環境, さ, 緩やか]</td>\n",
       "      <td>OOD</td>\n",
       "      <td>OOD#general</td>\n",
       "      <td>所得</td>\n",
       "    </tr>\n",
       "    <tr>\n",
       "      <th>8</th>\n",
       "      <td>general</td>\n",
       "      <td>[収益, 雇用, 所得, さ, 緩やか, 回復]</td>\n",
       "      <td>OOD</td>\n",
       "      <td>OOD#general</td>\n",
       "      <td>環境</td>\n",
       "    </tr>\n",
       "    <tr>\n",
       "      <th>9</th>\n",
       "      <td>general</td>\n",
       "      <td>[__PAD__, __PAD__, __PAD__, 業界, デジタル, 化]</td>\n",
       "      <td>market</td>\n",
       "      <td>market#general</td>\n",
       "      <td>歯科</td>\n",
       "    </tr>\n",
       "  </tbody>\n",
       "</table>\n",
       "</div>"
      ],
      "text/plain": [
       "  attribute                                   context  entity           label  \\\n",
       "0   general                  [経済, 米国, 中心, 堅調, 推移, 英国]     OOD     OOD#general   \n",
       "1   general             [確実, 性, 景気, 不透明, 状況, __PAD__]     OOD     OOD#general   \n",
       "2   general   [__PAD__, __PAD__, __PAD__, 経済, 企業, 収益]     OOD     OOD#general   \n",
       "3   general        [__PAD__, __PAD__, 国内, 企業, 収益, 雇用]     OOD     OOD#general   \n",
       "4   general             [__PAD__, 国内, 経済, 収益, 雇用, 所得]     OOD     OOD#general   \n",
       "5   general                  [国内, 経済, 企業, 雇用, 所得, 環境]     OOD     OOD#general   \n",
       "6   general                   [経済, 企業, 収益, 所得, 環境, さ]     OOD     OOD#general   \n",
       "7   general                  [企業, 収益, 雇用, 環境, さ, 緩やか]     OOD     OOD#general   \n",
       "8   general                  [収益, 雇用, 所得, さ, 緩やか, 回復]     OOD     OOD#general   \n",
       "9   general  [__PAD__, __PAD__, __PAD__, 業界, デジタル, 化]  market  market#general   \n",
       "\n",
       "  target  \n",
       "0     景気  \n",
       "1    先行き  \n",
       "2     国内  \n",
       "3     経済  \n",
       "4     企業  \n",
       "5     収益  \n",
       "6     雇用  \n",
       "7     所得  \n",
       "8     環境  \n",
       "9     歯科  "
      ]
     },
     "execution_count": 310,
     "metadata": {},
     "output_type": "execute_result"
    }
   ],
   "source": [
    "dataset.head(10)"
   ]
  },
  {
   "cell_type": "code",
   "execution_count": 311,
   "metadata": {},
   "outputs": [
    {
     "data": {
      "text/plain": [
       "label\n",
       "OOD#general         4038\n",
       "NULL#profit         2978\n",
       "NULL#sales          2137\n",
       "business#sales      1458\n",
       "product#amount      1441\n",
       "product#sales        975\n",
       "NULL#cost            810\n",
       "NULL#amount          731\n",
       "product#general      677\n",
       "business#profit      641\n",
       "business#amount      391\n",
       "business#general     369\n",
       "market#general       338\n",
       "NULL#price           177\n",
       "company#sales         97\n",
       "business#cost         85\n",
       "company#amount        80\n",
       "company#profit        61\n",
       "business#price        54\n",
       "product#price         54\n",
       "company#general       40\n",
       "product#profit        22\n",
       "company#cost          11\n",
       "product#cost          10\n",
       "NULL#general           5\n",
       "Name: target, dtype: int64"
      ]
     },
     "execution_count": 311,
     "metadata": {},
     "output_type": "execute_result"
    }
   ],
   "source": [
    "dataset.groupby(\"label\").count()[\"target\"].sort_values(ascending=False)"
   ]
  },
  {
   "cell_type": "code",
   "execution_count": 312,
   "metadata": {},
   "outputs": [],
   "source": [
    "# Filter NULL / OOD entity\n",
    "dataset = dataset[(dataset[\"entity\"] != \"NULL\") & (dataset[\"entity\"] != \"OOD\")]"
   ]
  },
  {
   "cell_type": "code",
   "execution_count": 313,
   "metadata": {},
   "outputs": [
    {
     "name": "stdout",
     "output_type": "stream",
     "text": [
      "6804 data is available.\n"
     ]
    }
   ],
   "source": [
    "# reset index from 0    \n",
    "dataset.reset_index(drop=True, inplace=True)\n",
    "# show dataset size\n",
    "print(\"{} data is available.\".format(len(dataset)))"
   ]
  },
  {
   "cell_type": "code",
   "execution_count": 314,
   "metadata": {},
   "outputs": [
    {
     "data": {
      "text/html": [
       "<div>\n",
       "<style scoped>\n",
       "    .dataframe tbody tr th:only-of-type {\n",
       "        vertical-align: middle;\n",
       "    }\n",
       "\n",
       "    .dataframe tbody tr th {\n",
       "        vertical-align: top;\n",
       "    }\n",
       "\n",
       "    .dataframe thead th {\n",
       "        text-align: right;\n",
       "    }\n",
       "</style>\n",
       "<table border=\"1\" class=\"dataframe\">\n",
       "  <thead>\n",
       "    <tr style=\"text-align: right;\">\n",
       "      <th></th>\n",
       "      <th>attribute</th>\n",
       "      <th>context</th>\n",
       "      <th>entity</th>\n",
       "      <th>label</th>\n",
       "      <th>target</th>\n",
       "    </tr>\n",
       "  </thead>\n",
       "  <tbody>\n",
       "    <tr>\n",
       "      <th>0</th>\n",
       "      <td>general</td>\n",
       "      <td>[__PAD__, __PAD__, __PAD__, 業界, デジタル, 化]</td>\n",
       "      <td>market</td>\n",
       "      <td>market#general</td>\n",
       "      <td>歯科</td>\n",
       "    </tr>\n",
       "    <tr>\n",
       "      <th>1</th>\n",
       "      <td>general</td>\n",
       "      <td>[__PAD__, __PAD__, 歯科, デジタル, 化, 進展]</td>\n",
       "      <td>market</td>\n",
       "      <td>market#general</td>\n",
       "      <td>業界</td>\n",
       "    </tr>\n",
       "    <tr>\n",
       "      <th>2</th>\n",
       "      <td>sales</td>\n",
       "      <td>[当社, 注力, 分野, 品, ＣＡＤ, /]</td>\n",
       "      <td>product</td>\n",
       "      <td>product#sales</td>\n",
       "      <td>化工</td>\n",
       "    </tr>\n",
       "    <tr>\n",
       "      <th>3</th>\n",
       "      <td>sales</td>\n",
       "      <td>[注力, 分野, 化工, ＣＡＤ, /, ＣＡＭ]</td>\n",
       "      <td>product</td>\n",
       "      <td>product#sales</td>\n",
       "      <td>品</td>\n",
       "    </tr>\n",
       "    <tr>\n",
       "      <th>4</th>\n",
       "      <td>sales</td>\n",
       "      <td>[分野, 化工, 品, /, ＣＡＭ, 関連]</td>\n",
       "      <td>product</td>\n",
       "      <td>product#sales</td>\n",
       "      <td>ＣＡＤ</td>\n",
       "    </tr>\n",
       "  </tbody>\n",
       "</table>\n",
       "</div>"
      ],
      "text/plain": [
       "  attribute                                   context   entity  \\\n",
       "0   general  [__PAD__, __PAD__, __PAD__, 業界, デジタル, 化]   market   \n",
       "1   general       [__PAD__, __PAD__, 歯科, デジタル, 化, 進展]   market   \n",
       "2     sales                   [当社, 注力, 分野, 品, ＣＡＤ, /]  product   \n",
       "3     sales                 [注力, 分野, 化工, ＣＡＤ, /, ＣＡＭ]  product   \n",
       "4     sales                   [分野, 化工, 品, /, ＣＡＭ, 関連]  product   \n",
       "\n",
       "            label target  \n",
       "0  market#general     歯科  \n",
       "1  market#general     業界  \n",
       "2   product#sales     化工  \n",
       "3   product#sales      品  \n",
       "4   product#sales    ＣＡＤ  "
      ]
     },
     "execution_count": 314,
     "metadata": {},
     "output_type": "execute_result"
    }
   ],
   "source": [
    "dataset.head(5)"
   ]
  },
  {
   "cell_type": "code",
   "execution_count": 315,
   "metadata": {},
   "outputs": [
    {
     "name": "stdout",
     "output_type": "stream",
     "text": [
      "Vocabulary size is 3437 (less than 3 frequency word is excluded)\n"
     ]
    }
   ],
   "source": [
    "vocab = [PAD, UNK]\n",
    "vocab_size = 5000\n",
    "\n",
    "for term, freq in word_freq.most_common():\n",
    "    if len(vocab) < vocab_size:\n",
    "        vocab.append(term)\n",
    "        \n",
    "print(\"Vocabulary size is {} (less than {} frequency word is excluded)\".format(len(vocab), min_freq))"
   ]
  },
  {
   "cell_type": "markdown",
   "metadata": {},
   "source": [
    "## Prepare the word vector"
   ]
  },
  {
   "cell_type": "code",
   "execution_count": 316,
   "metadata": {},
   "outputs": [],
   "source": [
    "# check pretrained vector existence\n",
    "EMBED_SIZE = 300  # fastText is 300dim\n",
    "word_vector_path = Path.cwd().joinpath(\"wiki.ja.vec\")\n",
    "if not word_vector_path.exists():\n",
    "    raise Exception(\"Pre-trained word vector is not downloaded. Please execute download_fast_text.py.\")"
   ]
  },
  {
   "cell_type": "code",
   "execution_count": 317,
   "metadata": {},
   "outputs": [
    {
     "name": "stdout",
     "output_type": "stream",
     "text": [
      "load word embeddings (3007 / 3437 is loaded).\n"
     ]
    }
   ],
   "source": [
    "import numpy as np\n",
    "\n",
    "\n",
    "embedding_matrix = np.zeros((len(vocab), EMBED_SIZE)) \n",
    "\n",
    "hit_count = -1\n",
    "with word_vector_path.open(encoding=\"utf-8\") as f:\n",
    "    for line in f:\n",
    "        if hit_count == -1:\n",
    "            hit_count = 0\n",
    "            continue  # skip first line that has (vocab_size, vector_size)\n",
    "\n",
    "        values = line.split()\n",
    "        word = values[0]\n",
    "        vector = np.asarray(values[1:], dtype=\"float32\")\n",
    "        if word in vocab:\n",
    "            hit_count += 1\n",
    "            index = vocab.index(word)\n",
    "            embedding_matrix[index] = vector\n",
    "\n",
    "print(\"load word embeddings ({} / {} is loaded).\".format(hit_count, len(vocab)))"
   ]
  },
  {
   "cell_type": "markdown",
   "metadata": {},
   "source": [
    "## Make Baseline Model\n",
    "\n",
    "* Baseline Model predicts the label from concatenated vector of context & target.\n"
   ]
  },
  {
   "cell_type": "code",
   "execution_count": 318,
   "metadata": {},
   "outputs": [
    {
     "name": "stdout",
     "output_type": "stream",
     "text": [
      "Label count is 18.\n",
      "Entities count is 4.\n",
      "Attributes count is 6.\n"
     ]
    }
   ],
   "source": [
    "labels = sorted(dataset.groupby(\"label\").groups.keys())\n",
    "entity_labels = sorted(dataset.groupby(\"entity\").groups.keys())\n",
    "attribute_labels = sorted(dataset.groupby(\"attribute\").groups.keys())\n",
    "print(\"Label count is {}.\".format(len(labels)))\n",
    "print(\"Entities count is {}.\".format(len(entity_labels)))\n",
    "print(\"Attributes count is {}.\".format(len(attribute_labels)))"
   ]
  },
  {
   "cell_type": "code",
   "execution_count": 319,
   "metadata": {},
   "outputs": [],
   "source": [
    "from keras.layers import Input, concatenate\n",
    "from keras import regularizers\n",
    "from keras.layers.core import Activation, Dense, Flatten\n",
    "from keras.layers.embeddings import Embedding\n",
    "from keras.models import Model\n",
    "from keras.utils import to_categorical\n",
    "\n",
    "\n",
    "input_length = WINDOW_SIZE * 2 + 1\n",
    "hidden_size = 300\n",
    "embedding_layer = Embedding(\n",
    "                            len(vocab),\n",
    "                            EMBED_SIZE,\n",
    "                            input_length=input_length,\n",
    "                            weights=[embedding_matrix])\n",
    "\n",
    "inputs = Input(shape=(input_length, ))\n",
    "vector = Flatten()(embedding_layer(inputs))\n",
    "entity_hidden = Dense(hidden_size, kernel_regularizer=regularizers.l1())(vector)\n",
    "attribute_hidden = Dense(hidden_size, kernel_regularizer=regularizers.l1())(vector)\n",
    "\n",
    "entity_out = Activation(\"softmax\", name=\"entity\")(Dense(len(entity_labels), kernel_regularizer=regularizers.l2())(entity_hidden))\n",
    "attribute_out = Activation(\"softmax\", name=\"attribute\")(Dense(len(attribute_labels), kernel_regularizer=regularizers.l2())(attribute_hidden))\n",
    "label_out = Activation(\"softmax\", name=\"label\")(Dense(len(labels), kernel_regularizer=regularizers.l2())(concatenate([entity_hidden, attribute_hidden])))\n",
    "\n",
    "model = Model(inputs=inputs, outputs=[label_out, entity_out, attribute_out])"
   ]
  },
  {
   "cell_type": "code",
   "execution_count": 320,
   "metadata": {},
   "outputs": [
    {
     "name": "stdout",
     "output_type": "stream",
     "text": [
      "(6804, 7)\n",
      "(6804, 18)\n",
      "(6804, 4)\n",
      "(6804, 6)\n"
     ]
    }
   ],
   "source": [
    "X = np.zeros((len(dataset), input_length))\n",
    "y_labels = np.zeros((len(dataset), len(labels)))\n",
    "y_entity = np.zeros((len(dataset), len(entity_labels)))\n",
    "y_attribute = np.zeros((len(dataset), len(attribute_labels)))\n",
    "\n",
    "\n",
    "def to_index(word):\n",
    "    if word in vocab:\n",
    "        return vocab.index(word)\n",
    "    else:\n",
    "        return vocab.index(UNK)\n",
    "\n",
    "\n",
    "for index, row in dataset.iterrows():\n",
    "    tokens = (row[\"context\"] + [row[\"target\"]])\n",
    "    indicies = [to_index(t) for t in tokens]\n",
    "    X[index] = indicies\n",
    "    y_labels[index] = to_categorical(labels.index(row[\"label\"]), num_classes=len(labels))\n",
    "    y_entity[index] = to_categorical(entity_labels.index(row[\"entity\"]), num_classes=len(entity_labels))\n",
    "    y_attribute[index] = to_categorical(attribute_labels.index(row[\"attribute\"]), num_classes=len(attribute_labels))\n",
    "\n",
    "    \n",
    "print(X.shape)\n",
    "y =  [y_labels, y_entity, y_attribute]\n",
    "for _y in y:\n",
    "    print(_y.shape)"
   ]
  },
  {
   "cell_type": "markdown",
   "metadata": {},
   "source": [
    "## Train the Model"
   ]
  },
  {
   "cell_type": "code",
   "execution_count": 321,
   "metadata": {},
   "outputs": [
    {
     "data": {
      "application/vnd.jupyter.widget-view+json": {
       "model_id": "1a24e38b8f384d5ebed897c6efae12ee",
       "version_major": 2,
       "version_minor": 0
      },
      "text/html": [
       "<p>Failed to display Jupyter Widget of type <code>HBox</code>.</p>\n",
       "<p>\n",
       "  If you're reading this message in the Jupyter Notebook or JupyterLab Notebook, it may mean\n",
       "  that the widgets JavaScript is still loading. If this message persists, it\n",
       "  likely means that the widgets JavaScript library is either not installed or\n",
       "  not enabled. See the <a href=\"https://ipywidgets.readthedocs.io/en/stable/user_install.html\">Jupyter\n",
       "  Widgets Documentation</a> for setup instructions.\n",
       "</p>\n",
       "<p>\n",
       "  If you're reading this message in another frontend (for example, a static\n",
       "  rendering on GitHub or <a href=\"https://nbviewer.jupyter.org/\">NBViewer</a>),\n",
       "  it may mean that your frontend doesn't currently support widgets.\n",
       "</p>\n"
      ],
      "text/plain": [
       "HBox(children=(IntProgress(value=0, description='Training', max=10), HTML(value='')))"
      ]
     },
     "metadata": {},
     "output_type": "display_data"
    },
    {
     "data": {
      "application/vnd.jupyter.widget-view+json": {
       "model_id": "2a5cb50aac6445abbfcddd53f3338dd9",
       "version_major": 2,
       "version_minor": 0
      },
      "text/html": [
       "<p>Failed to display Jupyter Widget of type <code>HBox</code>.</p>\n",
       "<p>\n",
       "  If you're reading this message in the Jupyter Notebook or JupyterLab Notebook, it may mean\n",
       "  that the widgets JavaScript is still loading. If this message persists, it\n",
       "  likely means that the widgets JavaScript library is either not installed or\n",
       "  not enabled. See the <a href=\"https://ipywidgets.readthedocs.io/en/stable/user_install.html\">Jupyter\n",
       "  Widgets Documentation</a> for setup instructions.\n",
       "</p>\n",
       "<p>\n",
       "  If you're reading this message in another frontend (for example, a static\n",
       "  rendering on GitHub or <a href=\"https://nbviewer.jupyter.org/\">NBViewer</a>),\n",
       "  it may mean that your frontend doesn't currently support widgets.\n",
       "</p>\n"
      ],
      "text/plain": [
       "HBox(children=(IntProgress(value=0, description='Epoch 0', max=4763), HTML(value='')))"
      ]
     },
     "metadata": {},
     "output_type": "display_data"
    },
    {
     "data": {
      "application/vnd.jupyter.widget-view+json": {
       "model_id": "ed97fa4a0cfa4215a74a1f855b3262d0",
       "version_major": 2,
       "version_minor": 0
      },
      "text/html": [
       "<p>Failed to display Jupyter Widget of type <code>HBox</code>.</p>\n",
       "<p>\n",
       "  If you're reading this message in the Jupyter Notebook or JupyterLab Notebook, it may mean\n",
       "  that the widgets JavaScript is still loading. If this message persists, it\n",
       "  likely means that the widgets JavaScript library is either not installed or\n",
       "  not enabled. See the <a href=\"https://ipywidgets.readthedocs.io/en/stable/user_install.html\">Jupyter\n",
       "  Widgets Documentation</a> for setup instructions.\n",
       "</p>\n",
       "<p>\n",
       "  If you're reading this message in another frontend (for example, a static\n",
       "  rendering on GitHub or <a href=\"https://nbviewer.jupyter.org/\">NBViewer</a>),\n",
       "  it may mean that your frontend doesn't currently support widgets.\n",
       "</p>\n"
      ],
      "text/plain": [
       "HBox(children=(IntProgress(value=0, description='Epoch 1', max=4763), HTML(value='')))"
      ]
     },
     "metadata": {},
     "output_type": "display_data"
    },
    {
     "data": {
      "application/vnd.jupyter.widget-view+json": {
       "model_id": "38c5634b951b41a598e9dcb334c13272",
       "version_major": 2,
       "version_minor": 0
      },
      "text/html": [
       "<p>Failed to display Jupyter Widget of type <code>HBox</code>.</p>\n",
       "<p>\n",
       "  If you're reading this message in the Jupyter Notebook or JupyterLab Notebook, it may mean\n",
       "  that the widgets JavaScript is still loading. If this message persists, it\n",
       "  likely means that the widgets JavaScript library is either not installed or\n",
       "  not enabled. See the <a href=\"https://ipywidgets.readthedocs.io/en/stable/user_install.html\">Jupyter\n",
       "  Widgets Documentation</a> for setup instructions.\n",
       "</p>\n",
       "<p>\n",
       "  If you're reading this message in another frontend (for example, a static\n",
       "  rendering on GitHub or <a href=\"https://nbviewer.jupyter.org/\">NBViewer</a>),\n",
       "  it may mean that your frontend doesn't currently support widgets.\n",
       "</p>\n"
      ],
      "text/plain": [
       "HBox(children=(IntProgress(value=0, description='Epoch 2', max=4763), HTML(value='')))"
      ]
     },
     "metadata": {},
     "output_type": "display_data"
    },
    {
     "data": {
      "application/vnd.jupyter.widget-view+json": {
       "model_id": "8980ad08db9a4a728b3019a0108b4a70",
       "version_major": 2,
       "version_minor": 0
      },
      "text/html": [
       "<p>Failed to display Jupyter Widget of type <code>HBox</code>.</p>\n",
       "<p>\n",
       "  If you're reading this message in the Jupyter Notebook or JupyterLab Notebook, it may mean\n",
       "  that the widgets JavaScript is still loading. If this message persists, it\n",
       "  likely means that the widgets JavaScript library is either not installed or\n",
       "  not enabled. See the <a href=\"https://ipywidgets.readthedocs.io/en/stable/user_install.html\">Jupyter\n",
       "  Widgets Documentation</a> for setup instructions.\n",
       "</p>\n",
       "<p>\n",
       "  If you're reading this message in another frontend (for example, a static\n",
       "  rendering on GitHub or <a href=\"https://nbviewer.jupyter.org/\">NBViewer</a>),\n",
       "  it may mean that your frontend doesn't currently support widgets.\n",
       "</p>\n"
      ],
      "text/plain": [
       "HBox(children=(IntProgress(value=0, description='Epoch 3', max=4763), HTML(value='')))"
      ]
     },
     "metadata": {},
     "output_type": "display_data"
    },
    {
     "data": {
      "application/vnd.jupyter.widget-view+json": {
       "model_id": "3a04ffd5ff274c8c8c00964dcee8831e",
       "version_major": 2,
       "version_minor": 0
      },
      "text/html": [
       "<p>Failed to display Jupyter Widget of type <code>HBox</code>.</p>\n",
       "<p>\n",
       "  If you're reading this message in the Jupyter Notebook or JupyterLab Notebook, it may mean\n",
       "  that the widgets JavaScript is still loading. If this message persists, it\n",
       "  likely means that the widgets JavaScript library is either not installed or\n",
       "  not enabled. See the <a href=\"https://ipywidgets.readthedocs.io/en/stable/user_install.html\">Jupyter\n",
       "  Widgets Documentation</a> for setup instructions.\n",
       "</p>\n",
       "<p>\n",
       "  If you're reading this message in another frontend (for example, a static\n",
       "  rendering on GitHub or <a href=\"https://nbviewer.jupyter.org/\">NBViewer</a>),\n",
       "  it may mean that your frontend doesn't currently support widgets.\n",
       "</p>\n"
      ],
      "text/plain": [
       "HBox(children=(IntProgress(value=0, description='Epoch 4', max=4763), HTML(value='')))"
      ]
     },
     "metadata": {},
     "output_type": "display_data"
    },
    {
     "data": {
      "application/vnd.jupyter.widget-view+json": {
       "model_id": "5bc495a5f6cb40cc84a658bf39427d84",
       "version_major": 2,
       "version_minor": 0
      },
      "text/html": [
       "<p>Failed to display Jupyter Widget of type <code>HBox</code>.</p>\n",
       "<p>\n",
       "  If you're reading this message in the Jupyter Notebook or JupyterLab Notebook, it may mean\n",
       "  that the widgets JavaScript is still loading. If this message persists, it\n",
       "  likely means that the widgets JavaScript library is either not installed or\n",
       "  not enabled. See the <a href=\"https://ipywidgets.readthedocs.io/en/stable/user_install.html\">Jupyter\n",
       "  Widgets Documentation</a> for setup instructions.\n",
       "</p>\n",
       "<p>\n",
       "  If you're reading this message in another frontend (for example, a static\n",
       "  rendering on GitHub or <a href=\"https://nbviewer.jupyter.org/\">NBViewer</a>),\n",
       "  it may mean that your frontend doesn't currently support widgets.\n",
       "</p>\n"
      ],
      "text/plain": [
       "HBox(children=(IntProgress(value=0, description='Epoch 5', max=4763), HTML(value='')))"
      ]
     },
     "metadata": {},
     "output_type": "display_data"
    },
    {
     "data": {
      "application/vnd.jupyter.widget-view+json": {
       "model_id": "10683e2ac7974a179452222baa93a554",
       "version_major": 2,
       "version_minor": 0
      },
      "text/html": [
       "<p>Failed to display Jupyter Widget of type <code>HBox</code>.</p>\n",
       "<p>\n",
       "  If you're reading this message in the Jupyter Notebook or JupyterLab Notebook, it may mean\n",
       "  that the widgets JavaScript is still loading. If this message persists, it\n",
       "  likely means that the widgets JavaScript library is either not installed or\n",
       "  not enabled. See the <a href=\"https://ipywidgets.readthedocs.io/en/stable/user_install.html\">Jupyter\n",
       "  Widgets Documentation</a> for setup instructions.\n",
       "</p>\n",
       "<p>\n",
       "  If you're reading this message in another frontend (for example, a static\n",
       "  rendering on GitHub or <a href=\"https://nbviewer.jupyter.org/\">NBViewer</a>),\n",
       "  it may mean that your frontend doesn't currently support widgets.\n",
       "</p>\n"
      ],
      "text/plain": [
       "HBox(children=(IntProgress(value=0, description='Epoch 6', max=4763), HTML(value='')))"
      ]
     },
     "metadata": {},
     "output_type": "display_data"
    },
    {
     "data": {
      "application/vnd.jupyter.widget-view+json": {
       "model_id": "86d49b3c5e4a49b78f10d1174ef4c893",
       "version_major": 2,
       "version_minor": 0
      },
      "text/html": [
       "<p>Failed to display Jupyter Widget of type <code>HBox</code>.</p>\n",
       "<p>\n",
       "  If you're reading this message in the Jupyter Notebook or JupyterLab Notebook, it may mean\n",
       "  that the widgets JavaScript is still loading. If this message persists, it\n",
       "  likely means that the widgets JavaScript library is either not installed or\n",
       "  not enabled. See the <a href=\"https://ipywidgets.readthedocs.io/en/stable/user_install.html\">Jupyter\n",
       "  Widgets Documentation</a> for setup instructions.\n",
       "</p>\n",
       "<p>\n",
       "  If you're reading this message in another frontend (for example, a static\n",
       "  rendering on GitHub or <a href=\"https://nbviewer.jupyter.org/\">NBViewer</a>),\n",
       "  it may mean that your frontend doesn't currently support widgets.\n",
       "</p>\n"
      ],
      "text/plain": [
       "HBox(children=(IntProgress(value=0, description='Epoch 7', max=4763), HTML(value='')))"
      ]
     },
     "metadata": {},
     "output_type": "display_data"
    },
    {
     "data": {
      "application/vnd.jupyter.widget-view+json": {
       "model_id": "c917597aaebd4170b91f03229f2ab29b",
       "version_major": 2,
       "version_minor": 0
      },
      "text/html": [
       "<p>Failed to display Jupyter Widget of type <code>HBox</code>.</p>\n",
       "<p>\n",
       "  If you're reading this message in the Jupyter Notebook or JupyterLab Notebook, it may mean\n",
       "  that the widgets JavaScript is still loading. If this message persists, it\n",
       "  likely means that the widgets JavaScript library is either not installed or\n",
       "  not enabled. See the <a href=\"https://ipywidgets.readthedocs.io/en/stable/user_install.html\">Jupyter\n",
       "  Widgets Documentation</a> for setup instructions.\n",
       "</p>\n",
       "<p>\n",
       "  If you're reading this message in another frontend (for example, a static\n",
       "  rendering on GitHub or <a href=\"https://nbviewer.jupyter.org/\">NBViewer</a>),\n",
       "  it may mean that your frontend doesn't currently support widgets.\n",
       "</p>\n"
      ],
      "text/plain": [
       "HBox(children=(IntProgress(value=0, description='Epoch 8', max=4763), HTML(value='')))"
      ]
     },
     "metadata": {},
     "output_type": "display_data"
    },
    {
     "data": {
      "application/vnd.jupyter.widget-view+json": {
       "model_id": "2f70cda7057a45c0b633a85e6c20a070",
       "version_major": 2,
       "version_minor": 0
      },
      "text/html": [
       "<p>Failed to display Jupyter Widget of type <code>HBox</code>.</p>\n",
       "<p>\n",
       "  If you're reading this message in the Jupyter Notebook or JupyterLab Notebook, it may mean\n",
       "  that the widgets JavaScript is still loading. If this message persists, it\n",
       "  likely means that the widgets JavaScript library is either not installed or\n",
       "  not enabled. See the <a href=\"https://ipywidgets.readthedocs.io/en/stable/user_install.html\">Jupyter\n",
       "  Widgets Documentation</a> for setup instructions.\n",
       "</p>\n",
       "<p>\n",
       "  If you're reading this message in another frontend (for example, a static\n",
       "  rendering on GitHub or <a href=\"https://nbviewer.jupyter.org/\">NBViewer</a>),\n",
       "  it may mean that your frontend doesn't currently support widgets.\n",
       "</p>\n"
      ],
      "text/plain": [
       "HBox(children=(IntProgress(value=0, description='Epoch 9', max=4763), HTML(value='')))"
      ]
     },
     "metadata": {},
     "output_type": "display_data"
    },
    {
     "name": "stdout",
     "output_type": "stream",
     "text": [
      "\n"
     ]
    },
    {
     "data": {
      "text/plain": [
       "<keras.callbacks.History at 0x135649e48>"
      ]
     },
     "execution_count": 321,
     "metadata": {},
     "output_type": "execute_result"
    }
   ],
   "source": [
    "from keras_tqdm import TQDMNotebookCallback\n",
    "\n",
    "\n",
    "test_size = int(X.shape[0] * 0.3)\n",
    "indices = np.random.permutation(X.shape[0])\n",
    "\n",
    "X_train, X_test = X[indices[:-test_size], :],  X[indices[-test_size:], :]\n",
    "y_train = [_y[indices[:-test_size], :] for _y in y]\n",
    "y_test = [_y[indices[-test_size:], :] for _y in y]\n",
    "\n",
    "model.compile(loss=\"categorical_crossentropy\", optimizer=\"rmsprop\", metrics=['acc'])\n",
    "model.fit(\n",
    "    X_train, y_train, validation_data=(X_test, y_test), \n",
    "    batch_size=64, epochs=10, \n",
    "    verbose=0, callbacks=[TQDMNotebookCallback()])"
   ]
  },
  {
   "cell_type": "code",
   "execution_count": 322,
   "metadata": {},
   "outputs": [
    {
     "name": "stdout",
     "output_type": "stream",
     "text": [
      "label prediction result.\n",
      "                  precision    recall  f1-score   support\n",
      "\n",
      " business#amount       0.00      0.00      0.00       125\n",
      "   business#cost       0.00      0.00      0.00        21\n",
      "business#general       0.00      0.00      0.00       102\n",
      "  business#price       0.00      0.00      0.00        18\n",
      " business#profit       0.00      0.00      0.00       189\n",
      "  business#sales       0.00      0.00      0.00       458\n",
      "  company#amount       0.01      0.83      0.02        24\n",
      "    company#cost       0.00      0.00      0.00         5\n",
      " company#general       0.00      0.00      0.00        11\n",
      "  company#profit       0.00      0.00      0.00        14\n",
      "   company#sales       0.00      0.00      0.00        29\n",
      "  market#general       0.00      0.00      0.00        86\n",
      "  product#amount       0.24      0.21      0.22       428\n",
      "    product#cost       0.00      0.00      0.00         4\n",
      " product#general       0.14      0.00      0.01       217\n",
      "   product#price       0.00      0.00      0.00        18\n",
      "  product#profit       0.00      0.00      0.00         5\n",
      "   product#sales       0.00      0.00      0.00       287\n",
      "\n",
      "     avg / total       0.06      0.05      0.05      2041\n",
      "\n",
      "entity prediction result.\n",
      "             precision    recall  f1-score   support\n",
      "\n",
      "   business       0.56      0.54      0.55       913\n",
      "    company       0.00      0.00      0.00        83\n",
      "     market       0.00      0.00      0.00        86\n",
      "    product       0.57      0.69      0.62       959\n",
      "\n",
      "avg / total       0.52      0.57      0.54      2041\n",
      "\n",
      "attribute prediction result.\n",
      "             precision    recall  f1-score   support\n",
      "\n",
      "     amount       0.00      0.00      0.00       577\n",
      "       cost       0.00      0.00      0.00        30\n",
      "    general       0.22      0.07      0.11       416\n",
      "      price       0.00      0.00      0.00        36\n",
      "     profit       0.00      0.00      0.00       208\n",
      "      sales       0.38      0.93      0.54       774\n",
      "\n",
      "avg / total       0.19      0.37      0.23      2041\n",
      "\n"
     ]
    },
    {
     "name": "stderr",
     "output_type": "stream",
     "text": [
      "/Users/smap6/develop/source/chABSA-dataset/venv/lib/python3.6/site-packages/sklearn/metrics/classification.py:1135: UndefinedMetricWarning: Precision and F-score are ill-defined and being set to 0.0 in labels with no predicted samples.\n",
      "  'precision', 'predicted', average, warn_for)\n"
     ]
    }
   ],
   "source": [
    "from sklearn.metrics import classification_report\n",
    "\n",
    "\n",
    "y_preds = model.predict(X_test)\n",
    "for i, kind in enumerate([\"label\", \"entity\", \"attribute\"]):\n",
    "    print(\"{} prediction result.\".format(kind))\n",
    "    y_pred = np.argmax(y_preds[i], axis=1)\n",
    "    y_true = np.argmax(y_test[i], axis=1)\n",
    "    if kind == \"label\":\n",
    "        names = labels\n",
    "    elif kind == \"entity\":\n",
    "        names = entity_labels\n",
    "    else:\n",
    "        names = attribute_labels\n",
    "    print(classification_report(y_true, y_pred, target_names=names))"
   ]
  },
  {
   "cell_type": "code",
   "execution_count": null,
   "metadata": {},
   "outputs": [],
   "source": []
  }
 ],
 "metadata": {
  "kernelspec": {
   "display_name": "Python 3",
   "language": "python",
   "name": "python3"
  },
  "language_info": {
   "codemirror_mode": {
    "name": "ipython",
    "version": 3
   },
   "file_extension": ".py",
   "mimetype": "text/x-python",
   "name": "python",
   "nbconvert_exporter": "python",
   "pygments_lexer": "ipython3",
   "version": "3.6.4"
  }
 },
 "nbformat": 4,
 "nbformat_minor": 2
}
