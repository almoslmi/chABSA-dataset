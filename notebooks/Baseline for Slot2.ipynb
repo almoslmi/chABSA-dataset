{
 "cells": [
  {
   "cell_type": "markdown",
   "metadata": {},
   "source": [
    "## Check dataset existence"
   ]
  },
  {
   "cell_type": "code",
   "execution_count": 1,
   "metadata": {},
   "outputs": [
    {
     "name": "stdout",
     "output_type": "stream",
     "text": [
      "230 files exist.\n"
     ]
    }
   ],
   "source": [
    "# check data existence\n",
    "from pathlib import Path\n",
    "\n",
    "\n",
    "data_folder = Path.cwd().parent.joinpath(\"data/processed\")\n",
    "\n",
    "def check_data_existence(folder):\n",
    "    file_count = len(list(folder.glob(\"e*_ann.json\")))\n",
    "    if  file_count == 0:\n",
    "        raise Exception(\"Processed Data does not exist.\")\n",
    "    else:\n",
    "        print(\"{} files exist.\".format(file_count))\n",
    "\n",
    "\n",
    "check_data_existence(data_folder)"
   ]
  },
  {
   "cell_type": "markdown",
   "metadata": {},
   "source": [
    "## Read Slot2 data to DataFrame"
   ]
  },
  {
   "cell_type": "code",
   "execution_count": null,
   "metadata": {},
   "outputs": [],
   "source": []
  }
 ],
 "metadata": {
  "kernelspec": {
   "display_name": "Python 3",
   "language": "python",
   "name": "python3"
  },
  "language_info": {
   "codemirror_mode": {
    "name": "ipython",
    "version": 3
   },
   "file_extension": ".py",
   "mimetype": "text/x-python",
   "name": "python",
   "nbconvert_exporter": "python",
   "pygments_lexer": "ipython3",
   "version": "3.6.4"
  }
 },
 "nbformat": 4,
 "nbformat_minor": 2
}
